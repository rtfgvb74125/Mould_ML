{
 "cells": [
  {
   "cell_type": "code",
   "execution_count": 1,
   "metadata": {},
   "outputs": [],
   "source": [
    "import numpy as np\n",
    "import pandas as pd\n",
    "from pandas import DataFrame\n",
    "import matplotlib.pyplot as plt\n",
    "import os\n",
    "import math\n",
    "import time\n",
    "import datetime\n",
    "import json\n",
    "# from datetime import datetime"
   ]
  },
  {
   "cell_type": "code",
   "execution_count": 2,
   "metadata": {},
   "outputs": [
    {
     "data": {
      "text/plain": [
       "['2020073000_clear.json',\n",
       " '2020073001_clear.json',\n",
       " '2020073002_clear.json',\n",
       " '2020073003_clear.json',\n",
       " '2020073004_clear.json',\n",
       " '2020073005_clear.json',\n",
       " '2020073006_clear.json',\n",
       " '2020073007_clear.json',\n",
       " '2020073008_clear.json',\n",
       " '2020073009_clear.json',\n",
       " '2020073010_clear.json',\n",
       " '2020073011_clear.json',\n",
       " '2020073012_clear.json',\n",
       " '2020073013_clear.json',\n",
       " '2020073014_clear.json',\n",
       " '2020073015_clear.json',\n",
       " '2020073016_clear.json',\n",
       " '2020073017_clear.json',\n",
       " '2020073018_clear.json',\n",
       " '2020073019_clear.json',\n",
       " '2020073020_clear.json',\n",
       " '2020073021_clear.json',\n",
       " '2020073022_clear.json',\n",
       " '2020073023_clear.json',\n",
       " '2020073100_clear.json',\n",
       " '2020073101_clear.json',\n",
       " '2020073102_clear.json',\n",
       " '2020073103_clear.json',\n",
       " '2020073104_clear.json',\n",
       " '2020073105_clear.json',\n",
       " '2020073106_clear.json',\n",
       " '2020073107_clear.json',\n",
       " '2020073108_clear.json',\n",
       " '2020073109_clear.json',\n",
       " '2020073110_clear.json',\n",
       " '2020073111_clear.json',\n",
       " '2020073112_clear.json',\n",
       " '2020073113_clear.json',\n",
       " '2020073114_clear.json',\n",
       " '2020073115_clear.json',\n",
       " '2020073116_clear.json',\n",
       " '2020073117_clear.json',\n",
       " '2020073118_clear.json',\n",
       " '2020073119_clear.json',\n",
       " '2020073120_clear.json',\n",
       " '2020073121_clear.json',\n",
       " '2020073122_clear.json',\n",
       " '2020073123_clear.json']"
      ]
     },
     "execution_count": 2,
     "metadata": {},
     "output_type": "execute_result"
    }
   ],
   "source": [
    "# path='D:\\\\福壽_產學_資料處理\\\\after_Clean_Granulator\\\\'\n",
    "path = 'D:\\\\福壽_產學資料\\\\製粒機_可用資料\\\\0730-0731\\\\'\n",
    "# path_new='C:\\\\Users\\\\PenGuinMike\\\\Documents\\\\福壽_產學_資料處理\\\\after_Clean_Granulator\\\\'\n",
    "file_list = os.listdir(path)\n",
    "# file_list.pop(0)\n",
    "file_list.pop(-1)\n",
    "#file_list.pop(1)\n",
    "file_list"
   ]
  },
  {
   "cell_type": "code",
   "execution_count": 3,
   "metadata": {},
   "outputs": [],
   "source": [
    "def comebine_Wrong_position_Data (path,Date,df_Yesterday):\n",
    "    df_Fix_error = pd.read_json(path+'資料合併_ver1\\\\'+Date+'_clear.json')\n",
    "    df_Fix_error = df_Fix_error.append(df_Yesterday,ignore_index=True)\n",
    "    df_Fix_error.to_json(path+'資料合併_ver1\\\\'+Date+'_clear.json')"
   ]
  },
  {
   "cell_type": "code",
   "execution_count": 4,
   "metadata": {},
   "outputs": [
    {
     "name": "stdout",
     "output_type": "stream",
     "text": [
      "2020073000_clear.json ['2020072923' '2020073000']\n"
     ]
    },
    {
     "ename": "ValueError",
     "evalue": "Expected object or value",
     "output_type": "error",
     "traceback": [
      "\u001b[1;31m---------------------------------------------------------------------------\u001b[0m",
      "\u001b[1;31mValueError\u001b[0m                                Traceback (most recent call last)",
      "\u001b[1;32m<ipython-input-4-5eb653e4b914>\u001b[0m in \u001b[0;36m<module>\u001b[1;34m\u001b[0m\n\u001b[0;32m     44\u001b[0m \u001b[1;31m#         print('No error position Data')\u001b[0m\u001b[1;33m\u001b[0m\u001b[1;33m\u001b[0m\u001b[1;33m\u001b[0m\u001b[0m\n\u001b[0;32m     45\u001b[0m         \u001b[0mdf_This_correct\u001b[0m\u001b[1;33m.\u001b[0m\u001b[0mto_json\u001b[0m\u001b[1;33m(\u001b[0m\u001b[0mpath\u001b[0m\u001b[1;33m+\u001b[0m\u001b[1;34m'資料合併_ver1\\\\'\u001b[0m\u001b[1;33m+\u001b[0m\u001b[0mtime_String\u001b[0m\u001b[1;33m[\u001b[0m\u001b[1;36m1\u001b[0m\u001b[1;33m]\u001b[0m\u001b[1;33m+\u001b[0m\u001b[1;34m'_clean.json'\u001b[0m\u001b[1;33m,\u001b[0m\u001b[0morient\u001b[0m \u001b[1;33m=\u001b[0m\u001b[1;34m'records'\u001b[0m\u001b[1;33m)\u001b[0m\u001b[1;33m\u001b[0m\u001b[1;33m\u001b[0m\u001b[0m\n\u001b[1;32m---> 46\u001b[1;33m         \u001b[0mcomebine_Wrong_position_Data\u001b[0m\u001b[1;33m(\u001b[0m\u001b[0mpath\u001b[0m\u001b[1;33m,\u001b[0m\u001b[0mtime_String\u001b[0m\u001b[1;33m[\u001b[0m\u001b[1;36m0\u001b[0m\u001b[1;33m]\u001b[0m\u001b[1;33m,\u001b[0m\u001b[0mdf_YesterDay\u001b[0m\u001b[1;33m)\u001b[0m\u001b[1;33m\u001b[0m\u001b[1;33m\u001b[0m\u001b[0m\n\u001b[0m\u001b[0;32m     47\u001b[0m     \u001b[1;32melse\u001b[0m\u001b[1;33m:\u001b[0m\u001b[1;33m\u001b[0m\u001b[1;33m\u001b[0m\u001b[0m\n\u001b[0;32m     48\u001b[0m         \u001b[0mprint\u001b[0m\u001b[1;33m(\u001b[0m\u001b[1;34m'哭啊 有其他的錯'\u001b[0m\u001b[1;33m)\u001b[0m\u001b[1;33m\u001b[0m\u001b[1;33m\u001b[0m\u001b[0m\n",
      "\u001b[1;32m<ipython-input-3-755684ee1592>\u001b[0m in \u001b[0;36mcomebine_Wrong_position_Data\u001b[1;34m(path, Date, df_Yesterday)\u001b[0m\n\u001b[0;32m      1\u001b[0m \u001b[1;32mdef\u001b[0m \u001b[0mcomebine_Wrong_position_Data\u001b[0m \u001b[1;33m(\u001b[0m\u001b[0mpath\u001b[0m\u001b[1;33m,\u001b[0m\u001b[0mDate\u001b[0m\u001b[1;33m,\u001b[0m\u001b[0mdf_Yesterday\u001b[0m\u001b[1;33m)\u001b[0m\u001b[1;33m:\u001b[0m\u001b[1;33m\u001b[0m\u001b[1;33m\u001b[0m\u001b[0m\n\u001b[1;32m----> 2\u001b[1;33m     \u001b[0mdf_Fix_error\u001b[0m \u001b[1;33m=\u001b[0m \u001b[0mpd\u001b[0m\u001b[1;33m.\u001b[0m\u001b[0mread_json\u001b[0m\u001b[1;33m(\u001b[0m\u001b[0mpath\u001b[0m\u001b[1;33m+\u001b[0m\u001b[0mDate\u001b[0m\u001b[1;33m+\u001b[0m\u001b[1;34m'_clean.json'\u001b[0m\u001b[1;33m)\u001b[0m\u001b[1;33m\u001b[0m\u001b[1;33m\u001b[0m\u001b[0m\n\u001b[0m\u001b[0;32m      3\u001b[0m     \u001b[0mdf_Fix_error\u001b[0m \u001b[1;33m=\u001b[0m \u001b[0mdf_Fix_error\u001b[0m\u001b[1;33m.\u001b[0m\u001b[0mappend\u001b[0m\u001b[1;33m(\u001b[0m\u001b[0mdf_Yesterday\u001b[0m\u001b[1;33m,\u001b[0m\u001b[0mignore_index\u001b[0m\u001b[1;33m=\u001b[0m\u001b[1;32mTrue\u001b[0m\u001b[1;33m)\u001b[0m\u001b[1;33m\u001b[0m\u001b[1;33m\u001b[0m\u001b[0m\n\u001b[0;32m      4\u001b[0m     \u001b[0mdf_Fix_error\u001b[0m\u001b[1;33m.\u001b[0m\u001b[0mto_json\u001b[0m\u001b[1;33m(\u001b[0m\u001b[0mpath\u001b[0m\u001b[1;33m+\u001b[0m\u001b[1;34m'資料合併_ver1\\\\'\u001b[0m\u001b[1;33m+\u001b[0m\u001b[0mDate\u001b[0m\u001b[1;33m+\u001b[0m\u001b[1;34m'_clean.json'\u001b[0m\u001b[1;33m)\u001b[0m\u001b[1;33m\u001b[0m\u001b[1;33m\u001b[0m\u001b[0m\n",
      "\u001b[1;32mD:\\anaconda3\\lib\\site-packages\\pandas\\util\\_decorators.py\u001b[0m in \u001b[0;36mwrapper\u001b[1;34m(*args, **kwargs)\u001b[0m\n\u001b[0;32m    212\u001b[0m                 \u001b[1;32melse\u001b[0m\u001b[1;33m:\u001b[0m\u001b[1;33m\u001b[0m\u001b[1;33m\u001b[0m\u001b[0m\n\u001b[0;32m    213\u001b[0m                     \u001b[0mkwargs\u001b[0m\u001b[1;33m[\u001b[0m\u001b[0mnew_arg_name\u001b[0m\u001b[1;33m]\u001b[0m \u001b[1;33m=\u001b[0m \u001b[0mnew_arg_value\u001b[0m\u001b[1;33m\u001b[0m\u001b[1;33m\u001b[0m\u001b[0m\n\u001b[1;32m--> 214\u001b[1;33m             \u001b[1;32mreturn\u001b[0m \u001b[0mfunc\u001b[0m\u001b[1;33m(\u001b[0m\u001b[1;33m*\u001b[0m\u001b[0margs\u001b[0m\u001b[1;33m,\u001b[0m \u001b[1;33m**\u001b[0m\u001b[0mkwargs\u001b[0m\u001b[1;33m)\u001b[0m\u001b[1;33m\u001b[0m\u001b[1;33m\u001b[0m\u001b[0m\n\u001b[0m\u001b[0;32m    215\u001b[0m \u001b[1;33m\u001b[0m\u001b[0m\n\u001b[0;32m    216\u001b[0m         \u001b[1;32mreturn\u001b[0m \u001b[0mcast\u001b[0m\u001b[1;33m(\u001b[0m\u001b[0mF\u001b[0m\u001b[1;33m,\u001b[0m \u001b[0mwrapper\u001b[0m\u001b[1;33m)\u001b[0m\u001b[1;33m\u001b[0m\u001b[1;33m\u001b[0m\u001b[0m\n",
      "\u001b[1;32mD:\\anaconda3\\lib\\site-packages\\pandas\\io\\json\\_json.py\u001b[0m in \u001b[0;36mread_json\u001b[1;34m(path_or_buf, orient, typ, dtype, convert_axes, convert_dates, keep_default_dates, numpy, precise_float, date_unit, encoding, lines, chunksize, compression)\u001b[0m\n\u001b[0;32m    606\u001b[0m         \u001b[1;32mreturn\u001b[0m \u001b[0mjson_reader\u001b[0m\u001b[1;33m\u001b[0m\u001b[1;33m\u001b[0m\u001b[0m\n\u001b[0;32m    607\u001b[0m \u001b[1;33m\u001b[0m\u001b[0m\n\u001b[1;32m--> 608\u001b[1;33m     \u001b[0mresult\u001b[0m \u001b[1;33m=\u001b[0m \u001b[0mjson_reader\u001b[0m\u001b[1;33m.\u001b[0m\u001b[0mread\u001b[0m\u001b[1;33m(\u001b[0m\u001b[1;33m)\u001b[0m\u001b[1;33m\u001b[0m\u001b[1;33m\u001b[0m\u001b[0m\n\u001b[0m\u001b[0;32m    609\u001b[0m     \u001b[1;32mif\u001b[0m \u001b[0mshould_close\u001b[0m\u001b[1;33m:\u001b[0m\u001b[1;33m\u001b[0m\u001b[1;33m\u001b[0m\u001b[0m\n\u001b[0;32m    610\u001b[0m         \u001b[0mfilepath_or_buffer\u001b[0m\u001b[1;33m.\u001b[0m\u001b[0mclose\u001b[0m\u001b[1;33m(\u001b[0m\u001b[1;33m)\u001b[0m\u001b[1;33m\u001b[0m\u001b[1;33m\u001b[0m\u001b[0m\n",
      "\u001b[1;32mD:\\anaconda3\\lib\\site-packages\\pandas\\io\\json\\_json.py\u001b[0m in \u001b[0;36mread\u001b[1;34m(self)\u001b[0m\n\u001b[0;32m    729\u001b[0m             \u001b[0mobj\u001b[0m \u001b[1;33m=\u001b[0m \u001b[0mself\u001b[0m\u001b[1;33m.\u001b[0m\u001b[0m_get_object_parser\u001b[0m\u001b[1;33m(\u001b[0m\u001b[0mself\u001b[0m\u001b[1;33m.\u001b[0m\u001b[0m_combine_lines\u001b[0m\u001b[1;33m(\u001b[0m\u001b[0mdata\u001b[0m\u001b[1;33m.\u001b[0m\u001b[0msplit\u001b[0m\u001b[1;33m(\u001b[0m\u001b[1;34m\"\\n\"\u001b[0m\u001b[1;33m)\u001b[0m\u001b[1;33m)\u001b[0m\u001b[1;33m)\u001b[0m\u001b[1;33m\u001b[0m\u001b[1;33m\u001b[0m\u001b[0m\n\u001b[0;32m    730\u001b[0m         \u001b[1;32melse\u001b[0m\u001b[1;33m:\u001b[0m\u001b[1;33m\u001b[0m\u001b[1;33m\u001b[0m\u001b[0m\n\u001b[1;32m--> 731\u001b[1;33m             \u001b[0mobj\u001b[0m \u001b[1;33m=\u001b[0m \u001b[0mself\u001b[0m\u001b[1;33m.\u001b[0m\u001b[0m_get_object_parser\u001b[0m\u001b[1;33m(\u001b[0m\u001b[0mself\u001b[0m\u001b[1;33m.\u001b[0m\u001b[0mdata\u001b[0m\u001b[1;33m)\u001b[0m\u001b[1;33m\u001b[0m\u001b[1;33m\u001b[0m\u001b[0m\n\u001b[0m\u001b[0;32m    732\u001b[0m         \u001b[0mself\u001b[0m\u001b[1;33m.\u001b[0m\u001b[0mclose\u001b[0m\u001b[1;33m(\u001b[0m\u001b[1;33m)\u001b[0m\u001b[1;33m\u001b[0m\u001b[1;33m\u001b[0m\u001b[0m\n\u001b[0;32m    733\u001b[0m         \u001b[1;32mreturn\u001b[0m \u001b[0mobj\u001b[0m\u001b[1;33m\u001b[0m\u001b[1;33m\u001b[0m\u001b[0m\n",
      "\u001b[1;32mD:\\anaconda3\\lib\\site-packages\\pandas\\io\\json\\_json.py\u001b[0m in \u001b[0;36m_get_object_parser\u001b[1;34m(self, json)\u001b[0m\n\u001b[0;32m    751\u001b[0m         \u001b[0mobj\u001b[0m \u001b[1;33m=\u001b[0m \u001b[1;32mNone\u001b[0m\u001b[1;33m\u001b[0m\u001b[1;33m\u001b[0m\u001b[0m\n\u001b[0;32m    752\u001b[0m         \u001b[1;32mif\u001b[0m \u001b[0mtyp\u001b[0m \u001b[1;33m==\u001b[0m \u001b[1;34m\"frame\"\u001b[0m\u001b[1;33m:\u001b[0m\u001b[1;33m\u001b[0m\u001b[1;33m\u001b[0m\u001b[0m\n\u001b[1;32m--> 753\u001b[1;33m             \u001b[0mobj\u001b[0m \u001b[1;33m=\u001b[0m \u001b[0mFrameParser\u001b[0m\u001b[1;33m(\u001b[0m\u001b[0mjson\u001b[0m\u001b[1;33m,\u001b[0m \u001b[1;33m**\u001b[0m\u001b[0mkwargs\u001b[0m\u001b[1;33m)\u001b[0m\u001b[1;33m.\u001b[0m\u001b[0mparse\u001b[0m\u001b[1;33m(\u001b[0m\u001b[1;33m)\u001b[0m\u001b[1;33m\u001b[0m\u001b[1;33m\u001b[0m\u001b[0m\n\u001b[0m\u001b[0;32m    754\u001b[0m \u001b[1;33m\u001b[0m\u001b[0m\n\u001b[0;32m    755\u001b[0m         \u001b[1;32mif\u001b[0m \u001b[0mtyp\u001b[0m \u001b[1;33m==\u001b[0m \u001b[1;34m\"series\"\u001b[0m \u001b[1;32mor\u001b[0m \u001b[0mobj\u001b[0m \u001b[1;32mis\u001b[0m \u001b[1;32mNone\u001b[0m\u001b[1;33m:\u001b[0m\u001b[1;33m\u001b[0m\u001b[1;33m\u001b[0m\u001b[0m\n",
      "\u001b[1;32mD:\\anaconda3\\lib\\site-packages\\pandas\\io\\json\\_json.py\u001b[0m in \u001b[0;36mparse\u001b[1;34m(self)\u001b[0m\n\u001b[0;32m    855\u001b[0m \u001b[1;33m\u001b[0m\u001b[0m\n\u001b[0;32m    856\u001b[0m         \u001b[1;32melse\u001b[0m\u001b[1;33m:\u001b[0m\u001b[1;33m\u001b[0m\u001b[1;33m\u001b[0m\u001b[0m\n\u001b[1;32m--> 857\u001b[1;33m             \u001b[0mself\u001b[0m\u001b[1;33m.\u001b[0m\u001b[0m_parse_no_numpy\u001b[0m\u001b[1;33m(\u001b[0m\u001b[1;33m)\u001b[0m\u001b[1;33m\u001b[0m\u001b[1;33m\u001b[0m\u001b[0m\n\u001b[0m\u001b[0;32m    858\u001b[0m \u001b[1;33m\u001b[0m\u001b[0m\n\u001b[0;32m    859\u001b[0m         \u001b[1;32mif\u001b[0m \u001b[0mself\u001b[0m\u001b[1;33m.\u001b[0m\u001b[0mobj\u001b[0m \u001b[1;32mis\u001b[0m \u001b[1;32mNone\u001b[0m\u001b[1;33m:\u001b[0m\u001b[1;33m\u001b[0m\u001b[1;33m\u001b[0m\u001b[0m\n",
      "\u001b[1;32mD:\\anaconda3\\lib\\site-packages\\pandas\\io\\json\\_json.py\u001b[0m in \u001b[0;36m_parse_no_numpy\u001b[1;34m(self)\u001b[0m\n\u001b[0;32m   1087\u001b[0m         \u001b[1;32mif\u001b[0m \u001b[0morient\u001b[0m \u001b[1;33m==\u001b[0m \u001b[1;34m\"columns\"\u001b[0m\u001b[1;33m:\u001b[0m\u001b[1;33m\u001b[0m\u001b[1;33m\u001b[0m\u001b[0m\n\u001b[0;32m   1088\u001b[0m             self.obj = DataFrame(\n\u001b[1;32m-> 1089\u001b[1;33m                 \u001b[0mloads\u001b[0m\u001b[1;33m(\u001b[0m\u001b[0mjson\u001b[0m\u001b[1;33m,\u001b[0m \u001b[0mprecise_float\u001b[0m\u001b[1;33m=\u001b[0m\u001b[0mself\u001b[0m\u001b[1;33m.\u001b[0m\u001b[0mprecise_float\u001b[0m\u001b[1;33m)\u001b[0m\u001b[1;33m,\u001b[0m \u001b[0mdtype\u001b[0m\u001b[1;33m=\u001b[0m\u001b[1;32mNone\u001b[0m\u001b[1;33m\u001b[0m\u001b[1;33m\u001b[0m\u001b[0m\n\u001b[0m\u001b[0;32m   1090\u001b[0m             )\n\u001b[0;32m   1091\u001b[0m         \u001b[1;32melif\u001b[0m \u001b[0morient\u001b[0m \u001b[1;33m==\u001b[0m \u001b[1;34m\"split\"\u001b[0m\u001b[1;33m:\u001b[0m\u001b[1;33m\u001b[0m\u001b[1;33m\u001b[0m\u001b[0m\n",
      "\u001b[1;31mValueError\u001b[0m: Expected object or value"
     ]
    }
   ],
   "source": [
    "df_combine = pd.DataFrame()\n",
    "for read_File_list in file_list:\n",
    "    \n",
    "    get_This_filename = read_File_list.split('_')\n",
    "    \n",
    "    get_Path_name = path+read_File_list\n",
    "    df_origin = pd.read_json(get_Path_name)\n",
    "    \n",
    "    tmp_time = df_origin['Timestamp'].unique()\n",
    "    time_String=[]\n",
    "    #抓這個檔案裏面有沒有奇怪的時間，奇怪的就丟回去\n",
    "    for time_Cut in tmp_time:\n",
    "        tmp = pd.to_datetime(str(time_Cut))\n",
    "        time_String.append(tmp.strftime(\"%Y%m%d%H\"))\n",
    "    time_String = np.unique(time_String)\n",
    "    print(read_File_list , time_String)\n",
    "    #呼叫def把迷路的資料帶回家\n",
    "    df_shape = df_origin.shape\n",
    "    \n",
    "    df_This_correct = pd.DataFrame()\n",
    "    df_YesterDay = pd.DataFrame()\n",
    "    \n",
    "#     print(read_File_list)\n",
    "    #用index跑整個dataframe 把時間一樣的抓出來\n",
    "    for df_line in range(df_shape[0]):    \n",
    "#         print(df_line)\n",
    "        #轉成我們要的時間格式\n",
    "        tmp_time_Format = pd.to_datetime(str(df_origin.iloc[df_line,0]))\n",
    "        time_Format = tmp_time_Format.strftime(\"%Y%m%d%H\")\n",
    "#         print(df_origin.iloc[df_line,0],get_This_filename[0])\n",
    "        if time_Format == get_This_filename[0]:\n",
    "#             print(df_origin.iloc[df_line])\n",
    "            df_This_correct = df_This_correct.append(df_origin.iloc[df_line],ignore_index=True)\n",
    "        else :\n",
    "#             print(df_origin.iloc[df_line])\n",
    "            df_YesterDay = df_YesterDay.append(df_origin.iloc[df_line],ignore_index=True)\n",
    "    #輸出正確的檔案\n",
    "    \n",
    "    \n",
    "    if len(time_String) == 1:\n",
    "        print('No error position Data')\n",
    "        df_This_correct.to_json(path+'資料合併_ver1\\\\'+time_String[0]+'_clear.json',orient ='records')\n",
    "    elif len(time_String) == 2:\n",
    "#         print('No error position Data')\n",
    "        df_This_correct.to_json(path+'資料合併_ver1\\\\'+time_String[1]+'_clear.json',orient ='records')\n",
    "        comebine_Wrong_position_Data(path,time_String[0],df_YesterDay)\n",
    "    else:\n",
    "        print('哭啊 有其他的錯')"
   ]
  },
  {
   "cell_type": "markdown",
   "metadata": {},
   "source": [
    "# 第二次清理-自動化"
   ]
  },
  {
   "cell_type": "code",
   "execution_count": null,
   "metadata": {},
   "outputs": [],
   "source": [
    "def clean_JsonData_twice(input_Path , file_Name , output_Path):\n",
    "    df = pd.read_json(input_Path+file_Name)\n",
    "\n",
    "    list_Timestamp = df['Timestamp'].tolist()\n",
    "    list_Z1 = df['Z1'].tolist()\n",
    "    list_Z2 = df['Z2'].tolist()\n",
    "\n",
    "\n",
    "    with open(input_Path+file_Name,'w') as rebu:\n",
    "        file_Len = len(list_Timestamp)\n",
    "    #     print(list_Timestamp)\n",
    "        rebu.write('[\\n')\n",
    "        for i in range(file_Len):\n",
    "            if i < file_Len-1:\n",
    "                rebu.writelines('{'+'\"Timestamp\"'+':\"'+list_Timestamp[i].strftime(\"%Y-%m-%d %H:%M:%S\")+'\",'+\n",
    "                                '\"Z1\"'+':'+str(list_Z1[i])+','+'\"Z2\"'+':'+str(list_Z2[i])+'},\\n')\n",
    "            elif i == file_Len-1:\n",
    "                rebu.writelines('{'+'\"Timestamp\"'+':\"'+list_Timestamp[i].strftime(\"%Y-%m-%d %H:%M:%S\")+'\",'+\n",
    "                                '\"Z1\"'+':'+str(list_Z1[i])+','+'\"Z2\"'+':'+str(list_Z2[i])+'}\\n')\n",
    "\n",
    "        rebu.write(']')"
   ]
  },
  {
   "cell_type": "code",
   "execution_count": null,
   "metadata": {},
   "outputs": [],
   "source": [
    "input_Path = 'D:\\\\福壽_產學資料\\\\製粒機_可用資料\\\\0730-0731\\\\資料合併_ver1\\\\'\n",
    "output_Path = 'D:\\\\福壽_產學資料\\\\製粒機_資料重新合併\\\\0730-0731\\\\'\n",
    "for i in file_list:\n",
    "    clean_JsonData_twice(input_Path,i,output_Path)"
   ]
  }
 ],
 "metadata": {
  "kernelspec": {
   "display_name": "Python 3",
   "language": "python",
   "name": "python3"
  },
  "language_info": {
   "codemirror_mode": {
    "name": "ipython",
    "version": 3
   },
   "file_extension": ".py",
   "mimetype": "text/x-python",
   "name": "python",
   "nbconvert_exporter": "python",
   "pygments_lexer": "ipython3",
   "version": "3.7.6"
  }
 },
 "nbformat": 4,
 "nbformat_minor": 4
}
