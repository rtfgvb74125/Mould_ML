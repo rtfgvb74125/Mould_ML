{
 "cells": [
  {
   "cell_type": "markdown",
   "metadata": {},
   "source": [
    "# 訓練資料合併\n",
    "\n",
    "將資料夾中要訓練的資料列出來\n",
    "然後手動讀取並合併就OK了"
   ]
  },
  {
   "cell_type": "code",
   "execution_count": 2,
   "metadata": {},
   "outputs": [
    {
     "data": {
      "text/plain": [
       "['json_Combine_txt_ToCSV_0804.csv',\n",
       " 'json_Combine_txt_ToCSV_0805.csv',\n",
       " 'json_Combine_txt_ToCSV_0806.csv',\n",
       " 'json_Combine_txt_ToCSV_0807.csv',\n",
       " 'json_Combine_txt_ToCSV_0809.csv',\n",
       " 'json_Combine_txt_ToCSV_0810.csv',\n",
       " 'json_Combine_txt_ToCSV_0811.csv',\n",
       " 'json_Combine_txt_ToCSV_0812.csv']"
      ]
     },
     "execution_count": 2,
     "metadata": {},
     "output_type": "execute_result"
    }
   ],
   "source": [
    "import os\n",
    "import pandas as pd\n",
    "path = 'D:\\\\桌面\\\\Train_Mould\\\\Data'\n",
    "file_list = os.listdir(path)\n",
    "file_list"
   ]
  },
  {
   "cell_type": "code",
   "execution_count": 3,
   "metadata": {},
   "outputs": [],
   "source": [
    "# 可以指定要併哪幾個檔案\n",
    "df1 = pd.read_csv(path+'\\\\'+file_list[2])\n",
    "df2 = pd.read_csv(path+'\\\\'+file_list[3])\n",
    "df3 = pd.read_csv(path+'\\\\'+file_list[5])"
   ]
  },
  {
   "cell_type": "code",
   "execution_count": 4,
   "metadata": {},
   "outputs": [],
   "source": [
    "df_first_all = pd.DataFrame()\n",
    "df_first_all = df_first_all.append(df1,ignore_index = True)\n",
    "df_first_all = df_first_all.append(df2,ignore_index = True)\n",
    "df_first_all = df_first_all.append(df3,ignore_index = True)\n",
    "df_first_all.to_csv('D:\\\\桌面\\\\Train_Mould\\\\CH_Y.csv')"
   ]
  }
 ],
 "metadata": {
  "kernelspec": {
   "display_name": "Python 3",
   "language": "python",
   "name": "python3"
  },
  "language_info": {
   "codemirror_mode": {
    "name": "ipython",
    "version": 3
   },
   "file_extension": ".py",
   "mimetype": "text/x-python",
   "name": "python",
   "nbconvert_exporter": "python",
   "pygments_lexer": "ipython3",
   "version": "3.7.6"
  }
 },
 "nbformat": 4,
 "nbformat_minor": 4
}
