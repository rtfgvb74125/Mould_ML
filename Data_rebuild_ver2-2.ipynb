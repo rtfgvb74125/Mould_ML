{
 "cells": [
  {
   "cell_type": "code",
   "execution_count": 1,
   "metadata": {},
   "outputs": [],
   "source": [
    "import numpy as np\n",
    "import pandas as pd\n",
    "from pandas import DataFrame\n",
    "import matplotlib.pyplot as plt\n",
    "import os\n",
    "import math\n",
    "import time\n",
    "import datetime\n",
    "import json\n",
    "# from datetime import datetime"
   ]
  },
  {
   "cell_type": "code",
   "execution_count": 2,
   "metadata": {},
   "outputs": [
    {
     "data": {
      "text/plain": [
       "['2020080200_clean.json',\n",
       " '2020080201_clean.json',\n",
       " '2020080202_clean.json',\n",
       " '2020080203_clean.json',\n",
       " '2020080204_clean.json',\n",
       " '2020080205_clean.json',\n",
       " '2020080206_clean.json',\n",
       " '2020080207_clean.json',\n",
       " '2020080208_clean.json',\n",
       " '2020080209_clean.json',\n",
       " '2020080210_clean.json',\n",
       " '2020080211_clean.json',\n",
       " '2020080212_clean.json',\n",
       " '2020080213_clean.json',\n",
       " '2020080214_clean.json',\n",
       " '2020080215_clean.json',\n",
       " '2020080216_clean.json',\n",
       " '2020080217_clean.json',\n",
       " '2020080218_clean.json',\n",
       " '2020080219_clean.json',\n",
       " '2020080220_clean.json',\n",
       " '2020080221_clean.json',\n",
       " '2020080222_clean.json',\n",
       " '2020080223_clean.json']"
      ]
     },
     "execution_count": 2,
     "metadata": {},
     "output_type": "execute_result"
    }
   ],
   "source": [
    "# path='D:\\\\福壽_產學_資料處理\\\\after_Clean_Granulator\\\\'\n",
    "path='D:\\\\福壽_產學資料\\\\製粒機_第一次處理\\\\0802\\\\'\n",
    "# path_new='C:\\\\Users\\\\PenGuinMike\\\\Documents\\\\福壽_產學_資料處理\\\\after_Clean_Granulator\\\\'\n",
    "file_list = os.listdir(path)\n",
    "# file_list.pop(0)\n",
    "file_list.pop(-1)\n",
    "#file_list.pop(0)\n",
    "# file_list.pop(0)\n",
    "# file_list.pop(0)\n",
    "file_list"
   ]
  },
  {
   "cell_type": "code",
   "execution_count": 3,
   "metadata": {},
   "outputs": [],
   "source": [
    "def comebine_Wrong_position_Data (path,Date,df_Yesterday):\n",
    "    df_Fix_error = pd.read_json(path+'資料合併_ver1\\\\'+Date+'_clean.json')\n",
    "    df_Fix_error = df_Fix_error.append(df_Yesterday,ignore_index=True)\n",
    "    df_Fix_error.to_json(path+'資料合併_ver1\\\\'+Date+'_clean.json')"
   ]
  },
  {
   "cell_type": "code",
   "execution_count": 4,
   "metadata": {},
   "outputs": [],
   "source": [
    "# print(path)\n",
    "ttt = pd.read_json(path+file_list[1])"
   ]
  },
  {
   "cell_type": "code",
   "execution_count": 5,
   "metadata": {},
   "outputs": [],
   "source": [
    "def find_Index_wrong_position(correct_Time,error_Time,dataframe):\n",
    "    \n",
    "    def_shape = dataframe.shape\n",
    "    \n",
    "    for def_line in range(def_shape[0]-1):\n",
    "        tmp_time_Format_correct = pd.to_datetime(str(dataframe.iloc[def_line+1,0]))\n",
    "        tmp_time_Format_error = pd.to_datetime(str(dataframe.iloc[def_line,0]))\n",
    "        \n",
    "        time_Format_c = tmp_time_Format_correct.strftime(\"%Y%m%d%H\")\n",
    "        time_Format_e = tmp_time_Format_error.strftime(\"%Y%m%d%H\")\n",
    "        \n",
    "        if error_Time == time_Format_e and correct_Time == time_Format_c:\n",
    "#             print(dataframe.loc[0:def_line+1])\n",
    "            return def_line\n",
    "#         else:\n",
    "#             print('又有bug啦RRRR')"
   ]
  },
  {
   "cell_type": "code",
   "execution_count": 6,
   "metadata": {
    "scrolled": true
   },
   "outputs": [
    {
     "name": "stdout",
     "output_type": "stream",
     "text": [
      "2020080200_clean.json ['2020080123' '2020080200']\n",
      "There is an error position Data\n",
      "2020080201_clean.json ['2020080200' '2020080201']\n",
      "There is an error position Data\n",
      "2020080202_clean.json ['2020080201' '2020080202']\n",
      "There is an error position Data\n",
      "2020080203_clean.json ['2020080202' '2020080203']\n",
      "There is an error position Data\n",
      "2020080204_clean.json ['2020080203' '2020080204']\n",
      "There is an error position Data\n",
      "2020080205_clean.json ['2020080204' '2020080205']\n",
      "There is an error position Data\n",
      "2020080206_clean.json ['2020080205' '2020080206']\n",
      "There is an error position Data\n",
      "2020080207_clean.json ['2020080206' '2020080207']\n",
      "There is an error position Data\n",
      "2020080208_clean.json ['2020080207' '2020080208']\n",
      "There is an error position Data\n",
      "2020080209_clean.json ['2020080208' '2020080209']\n",
      "There is an error position Data\n",
      "2020080210_clean.json ['2020080209' '2020080210']\n",
      "There is an error position Data\n",
      "2020080211_clean.json ['2020080210' '2020080211']\n",
      "There is an error position Data\n",
      "2020080212_clean.json ['2020080211' '2020080212']\n",
      "There is an error position Data\n",
      "2020080213_clean.json ['2020080212' '2020080213']\n",
      "There is an error position Data\n",
      "2020080214_clean.json ['2020080213' '2020080214']\n",
      "There is an error position Data\n",
      "2020080215_clean.json ['2020080214' '2020080215']\n",
      "There is an error position Data\n",
      "2020080216_clean.json ['2020080215' '2020080216']\n",
      "There is an error position Data\n",
      "2020080217_clean.json ['2020080216' '2020080217']\n",
      "There is an error position Data\n",
      "2020080218_clean.json ['2020080217' '2020080218']\n",
      "There is an error position Data\n",
      "2020080219_clean.json ['2020080218' '2020080219']\n",
      "There is an error position Data\n",
      "2020080220_clean.json ['2020080219' '2020080220']\n",
      "There is an error position Data\n",
      "2020080221_clean.json ['2020080220' '2020080221']\n",
      "There is an error position Data\n",
      "2020080222_clean.json ['2020080221' '2020080222']\n",
      "There is an error position Data\n",
      "2020080223_clean.json ['2020080222' '2020080223']\n",
      "There is an error position Data\n"
     ]
    }
   ],
   "source": [
    "df_combine = pd.DataFrame()\n",
    "for read_File_list in file_list:\n",
    "    \n",
    "    get_This_filename = read_File_list.split('_')\n",
    "    \n",
    "    get_Path_name = path+read_File_list\n",
    "    df_origin = pd.read_json(get_Path_name)\n",
    "    \n",
    "    tmp_time = df_origin['Timestamp'].unique()\n",
    "    time_String=[]\n",
    "    #抓這個檔案裏面有沒有奇怪的時間，奇怪的就丟回去\n",
    "    for time_Cut in tmp_time:\n",
    "        tmp = pd.to_datetime(str(time_Cut))\n",
    "        time_String.append(tmp.strftime(\"%Y%m%d%H\"))\n",
    "    time_String = np.unique(time_String)\n",
    "    print(read_File_list , time_String)\n",
    "    #呼叫def把迷路的資料帶回家\n",
    "    \n",
    "    \n",
    "    \n",
    "#     df_shape = df_origin.shape\n",
    "    \n",
    "    df_This_correct = pd.DataFrame()\n",
    "    df_YesterDay = pd.DataFrame()\n",
    "    flag = 0\n",
    "#     print(read_File_list)\n",
    "    #用index跑整個dataframe 把時間一樣的抓出來\n",
    "\n",
    "    #輸出正確的檔案\n",
    "    \n",
    "    \n",
    "    if len(time_String) == 1:\n",
    "        print('No error position Data')\n",
    "        df_origin.to_json(path+'資料合併_ver1\\\\'+time_String[0]+'_clean.json',orient ='records')\n",
    "    elif len(time_String) == 2:\n",
    "        error_Data_position = find_Index_wrong_position(time_String[1],time_String[0],df_origin)\n",
    "        df_This_correct = df_This_correct.append(df_origin[error_Data_position+1:])\n",
    "        df_YesterDay = df_YesterDay.append(df_origin[0:error_Data_position+1])\n",
    "        print('There is an error position Data')\n",
    "#         print(df_YesterDay)\n",
    "#         print(df_This_correct)\n",
    "        df_This_correct.to_json(path+'資料合併_ver1\\\\'+time_String[1]+'_clean.json',orient ='records')\n",
    "        comebine_Wrong_position_Data(path,time_String[0],df_YesterDay)\n",
    "        \n",
    "    else:\n",
    "        print('哭啊 有其他的錯')"
   ]
  },
  {
   "cell_type": "code",
   "execution_count": 7,
   "metadata": {},
   "outputs": [],
   "source": [
    "# test = pd.read_json(path+'2020070911'+'_clear.json')\n",
    "# test"
   ]
  },
  {
   "cell_type": "markdown",
   "metadata": {},
   "source": [
    "# 第二次清理-自動化"
   ]
  },
  {
   "cell_type": "code",
   "execution_count": 8,
   "metadata": {},
   "outputs": [],
   "source": [
    "def clean_JsonData_twice(input_Path , file_Name , output_Path):\n",
    "    df = pd.read_json(input_Path+file_Name)\n",
    "\n",
    "    list_Timestamp = df['Timestamp'].tolist()\n",
    "    list_Z1 = df['Z1'].tolist()\n",
    "    list_Z2 = df['Z2'].tolist()\n",
    "\n",
    "\n",
    "    with open(output_Path+file_Name,'w') as rebu:\n",
    "        file_Len = len(list_Timestamp)\n",
    "    #     print(list_Timestamp)\n",
    "        rebu.write('[\\n')\n",
    "        for i in range(file_Len):\n",
    "            if i < file_Len-1:\n",
    "                rebu.writelines('{'+'\"Timestamp\"'+':\"'+list_Timestamp[i].strftime(\"%Y-%m-%d %H:%M:%S\")+'\",'+\n",
    "                                '\"Z1\"'+':'+str(list_Z1[i])+','+'\"Z2\"'+':'+str(list_Z2[i])+'},\\n')\n",
    "            elif i == file_Len-1:\n",
    "                rebu.writelines('{'+'\"Timestamp\"'+':\"'+list_Timestamp[i].strftime(\"%Y-%m-%d %H:%M:%S\")+'\",'+\n",
    "                                '\"Z1\"'+':'+str(list_Z1[i])+','+'\"Z2\"'+':'+str(list_Z2[i])+'}\\n')\n",
    "\n",
    "        rebu.write(']')"
   ]
  },
  {
   "cell_type": "code",
   "execution_count": 9,
   "metadata": {
    "scrolled": true
   },
   "outputs": [
    {
     "name": "stdout",
     "output_type": "stream",
     "text": [
      "2020080123_clean.json\n",
      "2020080200_clean.json\n",
      "2020080201_clean.json\n",
      "2020080202_clean.json\n",
      "2020080203_clean.json\n",
      "2020080204_clean.json\n",
      "2020080205_clean.json\n",
      "2020080206_clean.json\n",
      "2020080207_clean.json\n",
      "2020080208_clean.json\n",
      "2020080209_clean.json\n",
      "2020080210_clean.json\n",
      "2020080211_clean.json\n",
      "2020080212_clean.json\n",
      "2020080213_clean.json\n",
      "2020080214_clean.json\n",
      "2020080215_clean.json\n",
      "2020080216_clean.json\n",
      "2020080217_clean.json\n",
      "2020080218_clean.json\n",
      "2020080219_clean.json\n",
      "2020080220_clean.json\n",
      "2020080221_clean.json\n",
      "2020080222_clean.json\n",
      "2020080223_clean.json\n"
     ]
    }
   ],
   "source": [
    "\n",
    "input_Path = 'D:\\\\福壽_產學資料\\\\製粒機_第一次處理\\\\0802\\\\資料合併_ver1\\\\'\n",
    "output_Path = 'D:\\\\福壽_產學資料\\\\製粒機_資料重新合併\\\\0802\\\\'\n",
    "\n",
    "path='D:\\\\福壽_產學資料\\\\製粒機_第一次處理\\\\0802\\\\資料合併_ver1\\\\'\n",
    "file_list_2 = os.listdir(path)\n",
    "file_list_2\n",
    "for i in file_list_2:\n",
    "    clean_JsonData_twice(input_Path,i,output_Path)\n",
    "    print(i)"
   ]
  },
  {
   "cell_type": "code",
   "execution_count": null,
   "metadata": {},
   "outputs": [],
   "source": []
  }
 ],
 "metadata": {
  "kernelspec": {
   "display_name": "Python 3",
   "language": "python",
   "name": "python3"
  },
  "language_info": {
   "codemirror_mode": {
    "name": "ipython",
    "version": 3
   },
   "file_extension": ".py",
   "mimetype": "text/x-python",
   "name": "python",
   "nbconvert_exporter": "python",
   "pygments_lexer": "ipython3",
   "version": "3.7.6"
  }
 },
 "nbformat": 4,
 "nbformat_minor": 4
}
