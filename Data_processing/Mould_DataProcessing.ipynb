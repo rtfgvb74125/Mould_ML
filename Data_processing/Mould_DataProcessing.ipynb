{
 "cells": [
  {
   "cell_type": "code",
   "execution_count": 1,
   "metadata": {},
   "outputs": [],
   "source": [
    "import numpy as np\n",
    "import pandas as pd\n",
    "from pandas import DataFrame\n",
    "import matplotlib.pyplot as plt\n",
    "import os\n",
    "import math\n",
    "from datetime import datetime"
   ]
  },
  {
   "cell_type": "markdown",
   "metadata": {},
   "source": [
    "# 列出資料檔案"
   ]
  },
  {
   "cell_type": "code",
   "execution_count": 3,
   "metadata": {},
   "outputs": [
    {
     "data": {
      "text/plain": [
       "['2020080300_clean.json',\n",
       " '2020080301_clean.json',\n",
       " '2020080302_clean.json',\n",
       " '2020080303_clean.json',\n",
       " '2020080304_clean.json',\n",
       " '2020080305_clean.json',\n",
       " '2020080306_clean.json',\n",
       " '2020080307_clean.json',\n",
       " '2020080308_clean.json',\n",
       " '2020080309_clean.json',\n",
       " '2020080310_clean.json',\n",
       " '2020080311_clean.json',\n",
       " '2020080312_clean.json',\n",
       " '2020080313_clean.json',\n",
       " '2020080314_clean.json',\n",
       " '2020080315_clean.json',\n",
       " '2020080316_clean.json',\n",
       " '2020080317_clean.json',\n",
       " '2020080318_clean.json',\n",
       " '2020080319_clean.json',\n",
       " '2020080320_clean.json',\n",
       " '2020080321_clean.json',\n",
       " '2020080322_clean.json',\n",
       " '2020080323_clean.json']"
      ]
     },
     "execution_count": 3,
     "metadata": {},
     "output_type": "execute_result"
    }
   ],
   "source": [
    "#檔案位置\n",
    "path='D:\\\\福壽_產學資料\\\\製粒機_資料重新合併\\\\0803\\\\'\n",
    "file_list = os.listdir(path)\n",
    "file_list"
   ]
  },
  {
   "cell_type": "markdown",
   "metadata": {},
   "source": [
    "# 檔案讀取成df"
   ]
  },
  {
   "cell_type": "code",
   "execution_count": 4,
   "metadata": {},
   "outputs": [
    {
     "data": {
      "text/html": [
       "<div>\n",
       "<style scoped>\n",
       "    .dataframe tbody tr th:only-of-type {\n",
       "        vertical-align: middle;\n",
       "    }\n",
       "\n",
       "    .dataframe tbody tr th {\n",
       "        vertical-align: top;\n",
       "    }\n",
       "\n",
       "    .dataframe thead th {\n",
       "        text-align: right;\n",
       "    }\n",
       "</style>\n",
       "<table border=\"1\" class=\"dataframe\">\n",
       "  <thead>\n",
       "    <tr style=\"text-align: right;\">\n",
       "      <th></th>\n",
       "      <th>Timestamp</th>\n",
       "      <th>Z1</th>\n",
       "      <th>Z2</th>\n",
       "    </tr>\n",
       "  </thead>\n",
       "  <tbody>\n",
       "    <tr>\n",
       "      <th>0</th>\n",
       "      <td>2020-08-03 01:00:00</td>\n",
       "      <td>-0.092773</td>\n",
       "      <td>1.308594</td>\n",
       "    </tr>\n",
       "    <tr>\n",
       "      <th>1</th>\n",
       "      <td>2020-08-03 01:00:00</td>\n",
       "      <td>-0.092773</td>\n",
       "      <td>1.322021</td>\n",
       "    </tr>\n",
       "    <tr>\n",
       "      <th>2</th>\n",
       "      <td>2020-08-03 01:00:00</td>\n",
       "      <td>-0.062256</td>\n",
       "      <td>1.319580</td>\n",
       "    </tr>\n",
       "    <tr>\n",
       "      <th>3</th>\n",
       "      <td>2020-08-03 01:00:00</td>\n",
       "      <td>-0.092773</td>\n",
       "      <td>1.319580</td>\n",
       "    </tr>\n",
       "    <tr>\n",
       "      <th>4</th>\n",
       "      <td>2020-08-03 01:00:00</td>\n",
       "      <td>-0.108643</td>\n",
       "      <td>1.317139</td>\n",
       "    </tr>\n",
       "    <tr>\n",
       "      <th>...</th>\n",
       "      <td>...</td>\n",
       "      <td>...</td>\n",
       "      <td>...</td>\n",
       "    </tr>\n",
       "    <tr>\n",
       "      <th>1138241</th>\n",
       "      <td>2020-08-03 01:59:00</td>\n",
       "      <td>-0.097656</td>\n",
       "      <td>1.269531</td>\n",
       "    </tr>\n",
       "    <tr>\n",
       "      <th>1138242</th>\n",
       "      <td>2020-08-03 01:59:00</td>\n",
       "      <td>-0.092773</td>\n",
       "      <td>1.322021</td>\n",
       "    </tr>\n",
       "    <tr>\n",
       "      <th>1138243</th>\n",
       "      <td>2020-08-03 01:59:00</td>\n",
       "      <td>-0.085449</td>\n",
       "      <td>1.324463</td>\n",
       "    </tr>\n",
       "    <tr>\n",
       "      <th>1138244</th>\n",
       "      <td>2020-08-03 01:59:00</td>\n",
       "      <td>-0.092773</td>\n",
       "      <td>1.324463</td>\n",
       "    </tr>\n",
       "    <tr>\n",
       "      <th>1138245</th>\n",
       "      <td>2020-08-03 01:59:00</td>\n",
       "      <td>-0.290527</td>\n",
       "      <td>1.308594</td>\n",
       "    </tr>\n",
       "  </tbody>\n",
       "</table>\n",
       "<p>1138246 rows × 3 columns</p>\n",
       "</div>"
      ],
      "text/plain": [
       "                  Timestamp        Z1        Z2\n",
       "0       2020-08-03 01:00:00 -0.092773  1.308594\n",
       "1       2020-08-03 01:00:00 -0.092773  1.322021\n",
       "2       2020-08-03 01:00:00 -0.062256  1.319580\n",
       "3       2020-08-03 01:00:00 -0.092773  1.319580\n",
       "4       2020-08-03 01:00:00 -0.108643  1.317139\n",
       "...                     ...       ...       ...\n",
       "1138241 2020-08-03 01:59:00 -0.097656  1.269531\n",
       "1138242 2020-08-03 01:59:00 -0.092773  1.322021\n",
       "1138243 2020-08-03 01:59:00 -0.085449  1.324463\n",
       "1138244 2020-08-03 01:59:00 -0.092773  1.324463\n",
       "1138245 2020-08-03 01:59:00 -0.290527  1.308594\n",
       "\n",
       "[1138246 rows x 3 columns]"
      ]
     },
     "execution_count": 4,
     "metadata": {},
     "output_type": "execute_result"
    }
   ],
   "source": [
    "df_origin = pd.read_json(path+file_list[1])\n",
    "df_origin"
   ]
  },
  {
   "cell_type": "markdown",
   "metadata": {},
   "source": [
    "# 取出分鐘資料"
   ]
  },
  {
   "cell_type": "code",
   "execution_count": 5,
   "metadata": {},
   "outputs": [
    {
     "data": {
      "text/plain": [
       "[Timestamp('2020-08-03 01:00:00'),\n",
       " Timestamp('2020-08-03 01:01:00'),\n",
       " Timestamp('2020-08-03 01:02:00'),\n",
       " Timestamp('2020-08-03 01:03:00'),\n",
       " Timestamp('2020-08-03 01:04:00'),\n",
       " Timestamp('2020-08-03 01:05:00'),\n",
       " Timestamp('2020-08-03 01:06:00'),\n",
       " Timestamp('2020-08-03 01:07:00'),\n",
       " Timestamp('2020-08-03 01:08:00'),\n",
       " Timestamp('2020-08-03 01:09:00'),\n",
       " Timestamp('2020-08-03 01:10:00'),\n",
       " Timestamp('2020-08-03 01:11:00'),\n",
       " Timestamp('2020-08-03 01:12:00'),\n",
       " Timestamp('2020-08-03 01:13:00'),\n",
       " Timestamp('2020-08-03 01:14:00'),\n",
       " Timestamp('2020-08-03 01:15:00'),\n",
       " Timestamp('2020-08-03 01:16:00'),\n",
       " Timestamp('2020-08-03 01:17:00'),\n",
       " Timestamp('2020-08-03 01:18:00'),\n",
       " Timestamp('2020-08-03 01:19:00'),\n",
       " Timestamp('2020-08-03 01:20:00'),\n",
       " Timestamp('2020-08-03 01:21:00'),\n",
       " Timestamp('2020-08-03 01:22:00'),\n",
       " Timestamp('2020-08-03 01:23:00'),\n",
       " Timestamp('2020-08-03 01:24:00'),\n",
       " Timestamp('2020-08-03 01:25:00'),\n",
       " Timestamp('2020-08-03 01:26:00'),\n",
       " Timestamp('2020-08-03 01:27:00'),\n",
       " Timestamp('2020-08-03 01:28:00'),\n",
       " Timestamp('2020-08-03 01:29:00'),\n",
       " Timestamp('2020-08-03 01:30:00'),\n",
       " Timestamp('2020-08-03 01:31:00'),\n",
       " Timestamp('2020-08-03 01:32:00'),\n",
       " Timestamp('2020-08-03 01:33:00'),\n",
       " Timestamp('2020-08-03 01:34:00'),\n",
       " Timestamp('2020-08-03 01:35:00'),\n",
       " Timestamp('2020-08-03 01:36:00'),\n",
       " Timestamp('2020-08-03 01:37:00'),\n",
       " Timestamp('2020-08-03 01:38:00'),\n",
       " Timestamp('2020-08-03 01:39:00'),\n",
       " Timestamp('2020-08-03 01:40:00'),\n",
       " Timestamp('2020-08-03 01:41:00'),\n",
       " Timestamp('2020-08-03 01:42:00'),\n",
       " Timestamp('2020-08-03 01:43:00'),\n",
       " Timestamp('2020-08-03 01:44:00'),\n",
       " Timestamp('2020-08-03 01:45:00'),\n",
       " Timestamp('2020-08-03 01:46:00'),\n",
       " Timestamp('2020-08-03 01:47:00'),\n",
       " Timestamp('2020-08-03 01:48:00'),\n",
       " Timestamp('2020-08-03 01:49:00'),\n",
       " Timestamp('2020-08-03 01:50:00'),\n",
       " Timestamp('2020-08-03 01:51:00'),\n",
       " Timestamp('2020-08-03 01:52:00'),\n",
       " Timestamp('2020-08-03 01:53:00'),\n",
       " Timestamp('2020-08-03 01:54:00'),\n",
       " Timestamp('2020-08-03 01:55:00'),\n",
       " Timestamp('2020-08-03 01:56:00'),\n",
       " Timestamp('2020-08-03 01:57:00'),\n",
       " Timestamp('2020-08-03 01:58:00'),\n",
       " Timestamp('2020-08-03 01:59:00')]"
      ]
     },
     "execution_count": 5,
     "metadata": {},
     "output_type": "execute_result"
    }
   ],
   "source": [
    "#將分鐘存入list\n",
    "list_timestamp=[]\n",
    "\n",
    "for i in df_origin['Timestamp']:\n",
    "    if not(i in list_timestamp):\n",
    "        list_timestamp.append(i)\n",
    "list_timestamp"
   ]
  },
  {
   "cell_type": "code",
   "execution_count": null,
   "metadata": {},
   "outputs": [],
   "source": [
    "#取出一分鐘資料"
   ]
  },
  {
   "cell_type": "code",
   "execution_count": 6,
   "metadata": {},
   "outputs": [
    {
     "data": {
      "text/html": [
       "<div>\n",
       "<style scoped>\n",
       "    .dataframe tbody tr th:only-of-type {\n",
       "        vertical-align: middle;\n",
       "    }\n",
       "\n",
       "    .dataframe tbody tr th {\n",
       "        vertical-align: top;\n",
       "    }\n",
       "\n",
       "    .dataframe thead th {\n",
       "        text-align: right;\n",
       "    }\n",
       "</style>\n",
       "<table border=\"1\" class=\"dataframe\">\n",
       "  <thead>\n",
       "    <tr style=\"text-align: right;\">\n",
       "      <th></th>\n",
       "      <th>Timestamp</th>\n",
       "      <th>Z1</th>\n",
       "      <th>Z2</th>\n",
       "    </tr>\n",
       "  </thead>\n",
       "  <tbody>\n",
       "    <tr>\n",
       "      <th>0</th>\n",
       "      <td>2020-08-03 01:00:00</td>\n",
       "      <td>-0.092773</td>\n",
       "      <td>1.308594</td>\n",
       "    </tr>\n",
       "    <tr>\n",
       "      <th>1</th>\n",
       "      <td>2020-08-03 01:00:00</td>\n",
       "      <td>-0.092773</td>\n",
       "      <td>1.322021</td>\n",
       "    </tr>\n",
       "    <tr>\n",
       "      <th>2</th>\n",
       "      <td>2020-08-03 01:00:00</td>\n",
       "      <td>-0.062256</td>\n",
       "      <td>1.319580</td>\n",
       "    </tr>\n",
       "    <tr>\n",
       "      <th>3</th>\n",
       "      <td>2020-08-03 01:00:00</td>\n",
       "      <td>-0.092773</td>\n",
       "      <td>1.319580</td>\n",
       "    </tr>\n",
       "    <tr>\n",
       "      <th>4</th>\n",
       "      <td>2020-08-03 01:00:00</td>\n",
       "      <td>-0.108643</td>\n",
       "      <td>1.317139</td>\n",
       "    </tr>\n",
       "    <tr>\n",
       "      <th>...</th>\n",
       "      <td>...</td>\n",
       "      <td>...</td>\n",
       "      <td>...</td>\n",
       "    </tr>\n",
       "    <tr>\n",
       "      <th>18996</th>\n",
       "      <td>2020-08-03 01:00:00</td>\n",
       "      <td>-0.079346</td>\n",
       "      <td>1.322021</td>\n",
       "    </tr>\n",
       "    <tr>\n",
       "      <th>18997</th>\n",
       "      <td>2020-08-03 01:00:00</td>\n",
       "      <td>-0.009766</td>\n",
       "      <td>1.301270</td>\n",
       "    </tr>\n",
       "    <tr>\n",
       "      <th>18998</th>\n",
       "      <td>2020-08-03 01:00:00</td>\n",
       "      <td>-0.079346</td>\n",
       "      <td>1.308594</td>\n",
       "    </tr>\n",
       "    <tr>\n",
       "      <th>18999</th>\n",
       "      <td>2020-08-03 01:00:00</td>\n",
       "      <td>-0.076904</td>\n",
       "      <td>1.337891</td>\n",
       "    </tr>\n",
       "    <tr>\n",
       "      <th>19000</th>\n",
       "      <td>2020-08-03 01:00:00</td>\n",
       "      <td>-0.092773</td>\n",
       "      <td>1.317139</td>\n",
       "    </tr>\n",
       "  </tbody>\n",
       "</table>\n",
       "<p>19001 rows × 3 columns</p>\n",
       "</div>"
      ],
      "text/plain": [
       "                Timestamp        Z1        Z2\n",
       "0     2020-08-03 01:00:00 -0.092773  1.308594\n",
       "1     2020-08-03 01:00:00 -0.092773  1.322021\n",
       "2     2020-08-03 01:00:00 -0.062256  1.319580\n",
       "3     2020-08-03 01:00:00 -0.092773  1.319580\n",
       "4     2020-08-03 01:00:00 -0.108643  1.317139\n",
       "...                   ...       ...       ...\n",
       "18996 2020-08-03 01:00:00 -0.079346  1.322021\n",
       "18997 2020-08-03 01:00:00 -0.009766  1.301270\n",
       "18998 2020-08-03 01:00:00 -0.079346  1.308594\n",
       "18999 2020-08-03 01:00:00 -0.076904  1.337891\n",
       "19000 2020-08-03 01:00:00 -0.092773  1.317139\n",
       "\n",
       "[19001 rows x 3 columns]"
      ]
     },
     "execution_count": 6,
     "metadata": {},
     "output_type": "execute_result"
    }
   ],
   "source": [
    "df_min = df_origin.loc[df_origin['Timestamp'] == '2020-08-03 01:00:00']\n",
    "df_min"
   ]
  },
  {
   "cell_type": "code",
   "execution_count": 7,
   "metadata": {},
   "outputs": [
    {
     "data": {
      "text/plain": [
       "(19001, 3)"
      ]
     },
     "execution_count": 7,
     "metadata": {},
     "output_type": "execute_result"
    }
   ],
   "source": [
    "df_min.shape"
   ]
  },
  {
   "cell_type": "code",
   "execution_count": 8,
   "metadata": {
    "scrolled": true
   },
   "outputs": [
    {
     "name": "stdout",
     "output_type": "stream",
     "text": [
      "[ 1.     2.475  3.95   5.425  6.9    8.375  9.85  11.325 12.8   14.275\n",
      " 15.75  17.225 18.7   20.175 21.65  23.125 24.6   26.075 27.55  29.025\n",
      " 30.5   31.975 33.45  34.925 36.4   37.875 39.35  40.825 42.3   43.775\n",
      " 45.25  46.725 48.2   49.675 51.15  52.625 54.1   55.575 57.05  58.525\n",
      " 60.   ]\n"
     ]
    }
   ],
   "source": [
    "#rem 餘數，取1~60之間生成與餘數一樣多的點，方便下方知道哪幾秒要多加比數。\n",
    "rem = df_min.shape[0]%60\n",
    "sec_space = np.linspace(1, 60, rem)\n",
    "print(sec_space)"
   ]
  },
  {
   "cell_type": "code",
   "execution_count": 9,
   "metadata": {
    "scrolled": true
   },
   "outputs": [
    {
     "name": "stdout",
     "output_type": "stream",
     "text": [
      "[1, 2, 3, 5, 6, 8, 9, 11, 12, 14, 15, 17, 18, 20, 21, 23, 24, 26, 27, 29, 30, 31, 33, 34, 36, 37, 39, 40, 42, 43, 45, 46, 48, 49, 51, 52, 54, 55, 57, 58, 60]\n"
     ]
    }
   ],
   "source": [
    "#將餘數位置轉換成整數。\n",
    "sec_list = []\n",
    "for i in sec_space:\n",
    "    sec_list.append(math.floor(i))\n",
    "print(sec_list)"
   ]
  },
  {
   "cell_type": "code",
   "execution_count": 10,
   "metadata": {},
   "outputs": [
    {
     "name": "stdout",
     "output_type": "stream",
     "text": [
      "19001\n",
      "316.68333333333334\n",
      "[316, 316, 316, 316, 316, 316, 316, 316, 316, 316, 316, 316, 316, 316, 316, 316, 316, 316, 316, 316, 316, 316, 316, 316, 316, 316, 316, 316, 316, 316, 316, 316, 316, 316, 316, 316, 316, 316, 316, 316, 316, 316, 316, 316, 316, 316, 316, 316, 316, 316, 316, 316, 316, 316, 316, 316, 316, 316, 316, 316]\n"
     ]
    }
   ],
   "source": [
    "min_count = df_min.shape[0]\n",
    "print(min_count)\n",
    "count = min_count/60\n",
    "print(count)\n",
    "sec_count = []\n",
    "for i in range(60):\n",
    "    sec_count.append(math.floor(count))\n",
    "print(sec_count)"
   ]
  },
  {
   "cell_type": "code",
   "execution_count": 11,
   "metadata": {},
   "outputs": [
    {
     "name": "stdout",
     "output_type": "stream",
     "text": [
      "[317, 317, 317, 316, 317, 317, 316, 317, 317, 316, 317, 317, 316, 317, 317, 316, 317, 317, 316, 317, 317, 316, 317, 317, 316, 317, 317, 316, 317, 317, 317, 316, 317, 317, 316, 317, 317, 316, 317, 317, 316, 317, 317, 316, 317, 317, 316, 317, 317, 316, 317, 317, 316, 317, 317, 316, 317, 317, 316, 317]\n"
     ]
    }
   ],
   "source": [
    "for i in sec_list:\n",
    "    sec_count[i-1] = sec_count[i-1]+1\n",
    "print(sec_count)"
   ]
  },
  {
   "cell_type": "code",
   "execution_count": null,
   "metadata": {},
   "outputs": [],
   "source": [
    "# sec_count.insert(0,0)\n",
    "# print(sec_count)"
   ]
  },
  {
   "cell_type": "code",
   "execution_count": 12,
   "metadata": {},
   "outputs": [
    {
     "name": "stdout",
     "output_type": "stream",
     "text": [
      "['2020-08-03 01:00:00', '2020-08-03 01:00:01', '2020-08-03 01:00:02', '2020-08-03 01:00:03', '2020-08-03 01:00:04', '2020-08-03 01:00:05', '2020-08-03 01:00:06', '2020-08-03 01:00:07', '2020-08-03 01:00:08', '2020-08-03 01:00:09', '2020-08-03 01:00:10', '2020-08-03 01:00:11', '2020-08-03 01:00:12', '2020-08-03 01:00:13', '2020-08-03 01:00:14', '2020-08-03 01:00:15', '2020-08-03 01:00:16', '2020-08-03 01:00:17', '2020-08-03 01:00:18', '2020-08-03 01:00:19', '2020-08-03 01:00:20', '2020-08-03 01:00:21', '2020-08-03 01:00:22', '2020-08-03 01:00:23', '2020-08-03 01:00:24', '2020-08-03 01:00:25', '2020-08-03 01:00:26', '2020-08-03 01:00:27', '2020-08-03 01:00:28', '2020-08-03 01:00:29', '2020-08-03 01:00:30', '2020-08-03 01:00:31', '2020-08-03 01:00:32', '2020-08-03 01:00:33', '2020-08-03 01:00:34', '2020-08-03 01:00:35', '2020-08-03 01:00:36', '2020-08-03 01:00:37', '2020-08-03 01:00:38', '2020-08-03 01:00:39', '2020-08-03 01:00:40', '2020-08-03 01:00:41', '2020-08-03 01:00:42', '2020-08-03 01:00:43', '2020-08-03 01:00:44', '2020-08-03 01:00:45', '2020-08-03 01:00:46', '2020-08-03 01:00:47', '2020-08-03 01:00:48', '2020-08-03 01:00:49', '2020-08-03 01:00:50', '2020-08-03 01:00:51', '2020-08-03 01:00:52', '2020-08-03 01:00:53', '2020-08-03 01:00:54', '2020-08-03 01:00:55', '2020-08-03 01:00:56', '2020-08-03 01:00:57', '2020-08-03 01:00:58', '2020-08-03 01:00:59']\n"
     ]
    }
   ],
   "source": [
    "#製作 min:sec Timestamp \n",
    "sec_Timestamp = []\n",
    "sec_Z1_mean = []\n",
    "sec_Z2_mean = []\n",
    "for i in range(60):\n",
    "    if i<10:\n",
    "        sec = '0'+str(i)\n",
    "        sec_Timestamp.append('2020-08-03 01:00:'+sec)\n",
    "    else:\n",
    "        sec_Timestamp.append('2020-08-03 01:00:'+str(i))\n",
    "print(sec_Timestamp)"
   ]
  },
  {
   "cell_type": "code",
   "execution_count": 23,
   "metadata": {},
   "outputs": [
    {
     "name": "stdout",
     "output_type": "stream",
     "text": [
      "max [-0.0769042969, 0.234375, 0.2111816406, 0.1623535156, 0.2197265625, 0.185546875, 0.2404785156, 0.1513671875, 0.2795410156, 0.2819824219, 0.302734375, 0.2478027344, 0.2136230469, 0.2685546875, 0.1928710938, 0.1831054688, 0.1232910156, 0.3186035156, 0.0891113281, 0.185546875, 0.2868652344, 0.2160644531, 0.3002929688, 0.1513671875, 0.1440429688, 0.2819824219, 0.2368164062, 0.1330566406, 0.1928710938, 0.2587890625, 0.3210449219, 0.2868652344, 0.2368164062, 0.2819824219, 0.1025390625, 0.2160644531, 0.1489257812, 0.2368164062, 0.1623535156, 0.2111816406, 0.234375, 0.1696777344, 0.1354980469, 0.1416015625, 0.2111816406, 0.2478027344, 0.2404785156, 0.2368164062, 0.1123046875, 0.2819824219, 0.2478027344, 0.2868652344, 0.2685546875, 0.2612304688, 0.2685546875, 0.2404785156, 0.1440429688, 0.234375, 0.2404785156, 0.2038574219]\n",
      "min [-0.5297851562, -0.3845214844, -0.4907226562, -0.3479003906, -0.4931640625, -0.3967285156, -0.3369140625, -0.3063964844, -0.3430175781, -0.3344726562, -0.2722167969, -0.4602050781, -0.4211425781, -0.4699707031, -0.3039550781, -0.3137207031, -0.41015625, -0.4333496094, -0.4211425781, -0.5224609375, -0.3247070312, -0.3662109375, -0.3796386719, -0.4809570312, -0.4956054687, -0.2954101562, -0.4357910156, -0.3271484375, -0.4931640625, -0.4333496094, -0.4809570312, -0.3894042969, -0.2807617188, -0.4833984375, -0.4602050781, -0.2880859375, -0.4724121094, -0.2880859375, -0.3637695312, -0.4602050781, -0.5322265625, -0.3503417969, -0.5224609375, -0.5163574219, -0.3063964844, -0.4309082031, -0.3686523438, -0.5041503906, -0.4418945312, -0.2746582031, -0.2954101562, -0.4833984375, -0.4748535156, -0.283203125, -0.4675292969, -0.3759765625, -0.3063964844, -0.2697753906, -0.3967285156, -0.2746582031]\n",
      "mean [-0.09170968192714292, -0.09035694356870756, -0.09096498843851861, -0.09147025443851352, -0.09132154060833335, -0.0912428635884616, -0.09001079359605273, -0.09321812222142868, -0.0927816301436242, -0.09157004932411357, -0.09222186054222227, -0.0912099341883562, -0.09047198448471347, -0.09010532924500002, -0.08897111223648654, -0.09228874656250008, -0.09179857043125009, -0.08942046723896112, -0.09032343475704233, -0.08923154888863638, -0.09232664420980397, -0.0918579101654412, -0.08972167969318184, -0.09214931861578948, -0.09110300165394747, -0.09148990407573535, -0.0894499748103227, -0.09162956185524485, -0.09194510324785722, -0.0881958007923078, -0.093251103952174, -0.09010597512370372, -0.09202889517943266, -0.09057984317142861, -0.09244905486083921, -0.08932871362739737, -0.09236917868246759, -0.09225899833214292, -0.09190029569513898, -0.09053847370514714, -0.09274088542866672, -0.08999338458709687, -0.09351112860791373, -0.09036415502763166, -0.09197998047714295, -0.09086128715664339, -0.0917533979095891, -0.09042381344436096, -0.09096781413888899, -0.0901384024868966, -0.09285026498041965, -0.09065817331297714, -0.09417105413405805, -0.09049938572258072, -0.09055777773082202, -0.09134043818840586, -0.09188483743970594, -0.08978949654052297, -0.09149366810241935, -0.08946138271029415]\n"
     ]
    }
   ],
   "source": [
    "#將取出一秒的資料進行平均存入sec_Z1_mean跟sec_Z2_mean\n",
    "sec_Z1_max = []\n",
    "sec_Z1_min = []\n",
    "sec_Z2_max = []\n",
    "sec_Z2_min = []\n",
    "sec_Z1_mean = []\n",
    "for i in range(0,60):\n",
    "    if i == 0:\n",
    "        df_sec = df_min[0:sum(sec_count[0:1])]\n",
    "        \n",
    "        df_sec_25 = pd.DataFrame()\n",
    "        df_sec_50 = pd.DataFrame()\n",
    "        df_sec_75 = pd.DataFrame()\n",
    "        \n",
    "        #df_sec的四分位數\n",
    "        df_sec25 = df_sec.quantile(0.25)\n",
    "        df_sec75 = df_sec.quantile(0.75)\n",
    "        \n",
    "        df_sec_quartile25 = df_sec25['Z1']\n",
    "        df_sec_quartile75 = df_sec75['Z1']\n",
    "        \n",
    "        df_sec_25 = df_sec_25.append(df_sec[df_sec['Z1']<=df_sec_quartile25],ignore_index=True)\n",
    "        df_sec_50 = df_sec_50.append(df_sec[(df_sec['Z1']>df_sec_quartile25) & (df_sec['Z1']<df_sec_quartile75)],ignore_index=True)\n",
    "        df_sec_75 = df_sec_75.append(df_sec[df_sec['Z1']>=df_sec_quartile75],ignore_index=True)\n",
    "\n",
    "        #print(df_sec)\n",
    "        sec_Z1_max.append(np.max(df_sec_75['Z1']))\n",
    "#         sec_Z2_max.append(np.max(df_sec['Z2']))\n",
    "        sec_Z1_min.append(np.min(df_sec_25['Z1']))\n",
    "#         sec_Z2_min.append(np.min(df_sec['Z2']))\n",
    "        \n",
    "        sec_Z1_mean.append(np.mean(df_sec_50['Z1']))\n",
    "#         sec_Z2_mean.append(np.mean(df_sec['Z2']))\n",
    "    else:\n",
    "        df_sec = df_min[sum(sec_count[0:i]):sum(sec_count[0:i+1])]\n",
    "        \n",
    "        df_sec_25 = pd.DataFrame()\n",
    "        df_sec_50 = pd.DataFrame()\n",
    "        df_sec_75 = pd.DataFrame()\n",
    "        \n",
    "        #df_sec的四分位數\n",
    "        df_sec25 = df_sec.quantile(0.25)\n",
    "        df_sec75 = df_sec.quantile(0.75)\n",
    "        \n",
    "        df_sec_quartile25 = df_sec25['Z1']\n",
    "        df_sec_quartile75 = df_sec75['Z1']\n",
    "        \n",
    "        df_sec_25 = df_sec_25.append(df_sec[df_sec['Z1']<=df_sec_quartile25],ignore_index=True)\n",
    "        df_sec_50 = df_sec_50.append(df_sec[(df_sec['Z1']>df_sec_quartile25) & (df_sec['Z1']<df_sec_quartile75)],ignore_index=True)\n",
    "        df_sec_75 = df_sec_75.append(df_sec[df_sec['Z1']>=df_sec_quartile75],ignore_index=True)\n",
    "        sec_Z1_max.append(np.max(df_sec_75['Z1']))\n",
    "#         sec_Z2_max.append(np.max(df_sec['Z2']))\n",
    "        sec_Z1_min.append(np.min(df_sec_25['Z1']))\n",
    "#         sec_Z2_min.append(np.min(df_sec['Z2']))\n",
    "        sec_Z1_mean.append(np.mean(df_sec_50['Z1']))\n",
    "        \n",
    "#         sec_Z2_mean.append(np.mean(df_sec['Z2']))\n",
    "        #print(df_sec)\n",
    "\n",
    "\n",
    "print('max',sec_Z1_max)\n",
    "print('min',sec_Z1_min)\n",
    "print('mean',sec_Z1_mean)\n",
    "# min_Z1_max = np.max(sec_Z1_max)\n",
    "# min_Z1_min = np.min(sec_Z1_min)\n",
    "# min_Z2_max = np.max(sec_Z2_max)\n",
    "# min_Z2_min = np.min(sec_Z2_min)"
   ]
  },
  {
   "cell_type": "code",
   "execution_count": null,
   "metadata": {},
   "outputs": [],
   "source": [
    "sec_point = pd.DataFrame()\n",
    "sec_point['Timestamp'] = sec_Timestamp\n",
    "sec_point['Z1'] = sec_Z1_mean\n",
    "sec_point['Z2'] = sec_Z2_mean\n",
    "sec_point['Z1_max'] = sec_Z1_max\n",
    "sec_point['Z1_min'] = sec_Z1_min\n",
    "sec_point['Z2_max'] = sec_Z2_max\n",
    "sec_point['Z2_min'] = sec_Z2_min\n",
    "#sec_point"
   ]
  },
  {
   "cell_type": "code",
   "execution_count": null,
   "metadata": {},
   "outputs": [],
   "source": [
    "sec_Z1_max_min = np.linspace(4,-4,7)\n",
    "print(sec_Z1_max_min)\n",
    "\n",
    "#sec_Z1_max_min = np.insert(sec_Z1_max_min,0,sec_Z1_max_min[0]-(sec_Z1_max_min[1]-sec_Z1_max_min[0]))\n",
    "#sec_Z1_max_min = np.append(sec_Z1_max_min,2*sec_Z1_max_min[-1]-sec_Z1_max_min[-2])\n",
    "\n",
    "print(sec_Z1_max_min.max())\n",
    "print(sec_Z1_max_min.min())\n",
    "\n",
    "print(sec_Z1_max_min)"
   ]
  },
  {
   "cell_type": "code",
   "execution_count": null,
   "metadata": {},
   "outputs": [],
   "source": [
    "#change size\n",
    "plt.figure(figsize=(15,5))\n",
    "#plot\n",
    "sec_point['Z1'].plot(yticks=sec_Z1_max_min,label= 'mean')\n",
    "sec_point['Z1_max'].plot(yticks=sec_Z1_max_min,color='red',ls = 'dashed',marker='v',label='max')\n",
    "sec_point['Z1_min'].plot(yticks=sec_Z1_max_min,color='green',ls = 'dashed',marker='^',label='min')\n",
    "plt.xlabel('Time sec')\n",
    "plt.ylabel('Vibration value')\n",
    "#plt.savefig('D:\\\\福壽_產學資料\\\\製粒機_可用資料\\\\0727_Z1\\\\2020_07_27_00_58.png')\n",
    "plt.show()"
   ]
  },
  {
   "cell_type": "code",
   "execution_count": null,
   "metadata": {},
   "outputs": [],
   "source": [
    "sec_Z2_max_min = np.linspace(min_Z2_min,min_Z2_max,5)\n",
    "print(sec_Z2_max_min)\n",
    "\n",
    "sec_Z2_max_min = np.insert(sec_Z2_max_min,0,sec_Z2_max_min[0]-(sec_Z2_max_min[1]-sec_Z2_max_min[0]))\n",
    "sec_Z2_max_min = np.append(sec_Z2_max_min,2*sec_Z2_max_min[-1]-sec_Z2_max_min[-2])\n",
    "\n",
    "print(sec_Z2_max_min.max())\n",
    "print(sec_Z2_max_min.min())\n",
    "\n",
    "print(sec_Z2_max_min)"
   ]
  },
  {
   "cell_type": "code",
   "execution_count": null,
   "metadata": {},
   "outputs": [],
   "source": [
    "#change size\n",
    "plt.figure(figsize=(15,5))\n",
    "#plot\n",
    "sec_point['Z2'].plot(yticks=sec_Z2_max_min)\n",
    "sec_point['Z2_max'].plot(yticks=sec_Z2_max_min,color='red',ls = 'dashed',marker='v')\n",
    "sec_point['Z2_min'].plot(yticks=sec_Z2_max_min,color='green',ls = 'dashed',marker='^')\n",
    "plt.xlabel('Time sec')\n",
    "plt.ylabel('Vibration value')\n",
    "#plt.savefig('D:\\\\福壽_產學資料\\\\製粒機_可用資料\\\\0727_Z2\\\\2020_07_27_00_58.png')\n",
    "plt.show()"
   ]
  },
  {
   "cell_type": "code",
   "execution_count": null,
   "metadata": {},
   "outputs": [],
   "source": [
    "X = np.array([2, 3, 4, 5, 6, 7, 8, 9, 10, 11, 12, 13, 14, 15, 16, 17, 18, 19])\n",
    "print(X[0:10])\n",
    "print(np.max(X[0:10]))\n",
    "print(np.mean(X[0:10]))"
   ]
  },
  {
   "cell_type": "code",
   "execution_count": null,
   "metadata": {},
   "outputs": [],
   "source": []
  }
 ],
 "metadata": {
  "kernelspec": {
   "display_name": "Python 3",
   "language": "python",
   "name": "python3"
  },
  "language_info": {
   "codemirror_mode": {
    "name": "ipython",
    "version": 3
   },
   "file_extension": ".py",
   "mimetype": "text/x-python",
   "name": "python",
   "nbconvert_exporter": "python",
   "pygments_lexer": "ipython3",
   "version": "3.8.5"
  }
 },
 "nbformat": 4,
 "nbformat_minor": 4
}
