{
 "cells": [
  {
   "cell_type": "code",
   "execution_count": 1,
   "metadata": {},
   "outputs": [],
   "source": [
    "import numpy as np\n",
    "import pandas as pd\n",
    "from pandas import DataFrame\n",
    "import matplotlib.pyplot as plt\n",
    "import os\n",
    "import math\n",
    "from datetime import datetime"
   ]
  },
  {
   "cell_type": "markdown",
   "metadata": {},
   "source": [
    "# 列出資料檔案"
   ]
  },
  {
   "cell_type": "code",
   "execution_count": 2,
   "metadata": {},
   "outputs": [
    {
     "data": {
      "text/plain": [
       "['2020072700_clear.json',\n",
       " '2020072701_clear.json',\n",
       " '2020072702_clear.json',\n",
       " '2020072703_clear.json',\n",
       " '2020072704_clear.json',\n",
       " '2020072705_clear.json',\n",
       " '2020072706_clear.json',\n",
       " '2020072707_clear.json',\n",
       " '2020072708_clear.json',\n",
       " '2020072709_clear.json',\n",
       " '2020072710_clear.json',\n",
       " '2020072711_clear.json',\n",
       " '2020072712_clear.json',\n",
       " '2020072713_clear.json',\n",
       " '2020072714_clear.json',\n",
       " '2020072715_clear.json',\n",
       " '2020072716_clear.json',\n",
       " '2020072717_clear.json',\n",
       " '2020072718_clear.json',\n",
       " '2020072719_clear.json',\n",
       " '2020072720_clear.json',\n",
       " '2020072721_clear.json',\n",
       " '2020072722_clear.json',\n",
       " '2020072723_clear.json']"
      ]
     },
     "execution_count": 2,
     "metadata": {},
     "output_type": "execute_result"
    }
   ],
   "source": [
    "#檔案位置\n",
    "path='D:\\\\福壽_產學資料\\\\製粒機_可用資料\\\\0727\\\\'\n",
    "file_list = os.listdir(path)\n",
    "file_list"
   ]
  },
  {
   "cell_type": "markdown",
   "metadata": {},
   "source": [
    "# 檔案讀取成df"
   ]
  },
  {
   "cell_type": "code",
   "execution_count": 3,
   "metadata": {},
   "outputs": [
    {
     "data": {
      "text/html": [
       "<div>\n",
       "<style scoped>\n",
       "    .dataframe tbody tr th:only-of-type {\n",
       "        vertical-align: middle;\n",
       "    }\n",
       "\n",
       "    .dataframe tbody tr th {\n",
       "        vertical-align: top;\n",
       "    }\n",
       "\n",
       "    .dataframe thead th {\n",
       "        text-align: right;\n",
       "    }\n",
       "</style>\n",
       "<table border=\"1\" class=\"dataframe\">\n",
       "  <thead>\n",
       "    <tr style=\"text-align: right;\">\n",
       "      <th></th>\n",
       "      <th>Timestamp</th>\n",
       "      <th>Z1</th>\n",
       "      <th>Z2</th>\n",
       "    </tr>\n",
       "  </thead>\n",
       "  <tbody>\n",
       "    <tr>\n",
       "      <th>0</th>\n",
       "      <td>2020-07-27 00:58:00</td>\n",
       "      <td>0.268555</td>\n",
       "      <td>1.699219</td>\n",
       "    </tr>\n",
       "    <tr>\n",
       "      <th>1</th>\n",
       "      <td>2020-07-27 00:58:00</td>\n",
       "      <td>0.258789</td>\n",
       "      <td>1.691895</td>\n",
       "    </tr>\n",
       "    <tr>\n",
       "      <th>2</th>\n",
       "      <td>2020-07-27 00:58:00</td>\n",
       "      <td>0.250244</td>\n",
       "      <td>1.691895</td>\n",
       "    </tr>\n",
       "    <tr>\n",
       "      <th>3</th>\n",
       "      <td>2020-07-27 00:58:00</td>\n",
       "      <td>0.258789</td>\n",
       "      <td>1.688232</td>\n",
       "    </tr>\n",
       "    <tr>\n",
       "      <th>4</th>\n",
       "      <td>2020-07-27 00:58:00</td>\n",
       "      <td>0.258789</td>\n",
       "      <td>1.691895</td>\n",
       "    </tr>\n",
       "    <tr>\n",
       "      <th>...</th>\n",
       "      <td>...</td>\n",
       "      <td>...</td>\n",
       "      <td>...</td>\n",
       "    </tr>\n",
       "    <tr>\n",
       "      <th>1140033</th>\n",
       "      <td>2020-07-27 01:58:00</td>\n",
       "      <td>0.261230</td>\n",
       "      <td>1.694336</td>\n",
       "    </tr>\n",
       "    <tr>\n",
       "      <th>1140034</th>\n",
       "      <td>2020-07-27 01:58:00</td>\n",
       "      <td>0.252686</td>\n",
       "      <td>1.699219</td>\n",
       "    </tr>\n",
       "    <tr>\n",
       "      <th>1140035</th>\n",
       "      <td>2020-07-27 01:58:00</td>\n",
       "      <td>0.261230</td>\n",
       "      <td>1.691895</td>\n",
       "    </tr>\n",
       "    <tr>\n",
       "      <th>1140036</th>\n",
       "      <td>2020-07-27 01:58:00</td>\n",
       "      <td>0.261230</td>\n",
       "      <td>1.691895</td>\n",
       "    </tr>\n",
       "    <tr>\n",
       "      <th>1140037</th>\n",
       "      <td>2020-07-27 01:58:00</td>\n",
       "      <td>0.258789</td>\n",
       "      <td>1.691895</td>\n",
       "    </tr>\n",
       "  </tbody>\n",
       "</table>\n",
       "<p>1140038 rows × 3 columns</p>\n",
       "</div>"
      ],
      "text/plain": [
       "                  Timestamp        Z1        Z2\n",
       "0       2020-07-27 00:58:00  0.268555  1.699219\n",
       "1       2020-07-27 00:58:00  0.258789  1.691895\n",
       "2       2020-07-27 00:58:00  0.250244  1.691895\n",
       "3       2020-07-27 00:58:00  0.258789  1.688232\n",
       "4       2020-07-27 00:58:00  0.258789  1.691895\n",
       "...                     ...       ...       ...\n",
       "1140033 2020-07-27 01:58:00  0.261230  1.694336\n",
       "1140034 2020-07-27 01:58:00  0.252686  1.699219\n",
       "1140035 2020-07-27 01:58:00  0.261230  1.691895\n",
       "1140036 2020-07-27 01:58:00  0.261230  1.691895\n",
       "1140037 2020-07-27 01:58:00  0.258789  1.691895\n",
       "\n",
       "[1140038 rows x 3 columns]"
      ]
     },
     "execution_count": 3,
     "metadata": {},
     "output_type": "execute_result"
    }
   ],
   "source": [
    "df_origin = pd.read_json(path+file_list[1])\n",
    "df_origin"
   ]
  },
  {
   "cell_type": "markdown",
   "metadata": {},
   "source": [
    "# 取出分鐘資料"
   ]
  },
  {
   "cell_type": "code",
   "execution_count": 4,
   "metadata": {},
   "outputs": [
    {
     "data": {
      "text/plain": [
       "[Timestamp('2020-07-27 00:58:00'),\n",
       " Timestamp('2020-07-27 00:59:00'),\n",
       " Timestamp('2020-07-27 01:00:00'),\n",
       " Timestamp('2020-07-27 01:01:00'),\n",
       " Timestamp('2020-07-27 01:02:00'),\n",
       " Timestamp('2020-07-27 01:03:00'),\n",
       " Timestamp('2020-07-27 01:04:00'),\n",
       " Timestamp('2020-07-27 01:05:00'),\n",
       " Timestamp('2020-07-27 01:06:00'),\n",
       " Timestamp('2020-07-27 01:07:00'),\n",
       " Timestamp('2020-07-27 01:08:00'),\n",
       " Timestamp('2020-07-27 01:09:00'),\n",
       " Timestamp('2020-07-27 01:10:00'),\n",
       " Timestamp('2020-07-27 01:11:00'),\n",
       " Timestamp('2020-07-27 01:12:00'),\n",
       " Timestamp('2020-07-27 01:13:00'),\n",
       " Timestamp('2020-07-27 01:14:00'),\n",
       " Timestamp('2020-07-27 01:15:00'),\n",
       " Timestamp('2020-07-27 01:16:00'),\n",
       " Timestamp('2020-07-27 01:17:00'),\n",
       " Timestamp('2020-07-27 01:18:00'),\n",
       " Timestamp('2020-07-27 01:19:00'),\n",
       " Timestamp('2020-07-27 01:20:00'),\n",
       " Timestamp('2020-07-27 01:21:00'),\n",
       " Timestamp('2020-07-27 01:22:00'),\n",
       " Timestamp('2020-07-27 01:23:00'),\n",
       " Timestamp('2020-07-27 01:24:00'),\n",
       " Timestamp('2020-07-27 01:25:00'),\n",
       " Timestamp('2020-07-27 01:26:00'),\n",
       " Timestamp('2020-07-27 01:27:00'),\n",
       " Timestamp('2020-07-27 01:28:00'),\n",
       " Timestamp('2020-07-27 01:29:00'),\n",
       " Timestamp('2020-07-27 01:30:00'),\n",
       " Timestamp('2020-07-27 01:31:00'),\n",
       " Timestamp('2020-07-27 01:32:00'),\n",
       " Timestamp('2020-07-27 01:33:00'),\n",
       " Timestamp('2020-07-27 01:34:00'),\n",
       " Timestamp('2020-07-27 01:35:00'),\n",
       " Timestamp('2020-07-27 01:36:00'),\n",
       " Timestamp('2020-07-27 01:37:00'),\n",
       " Timestamp('2020-07-27 01:38:00'),\n",
       " Timestamp('2020-07-27 01:39:00'),\n",
       " Timestamp('2020-07-27 01:40:00'),\n",
       " Timestamp('2020-07-27 01:41:00'),\n",
       " Timestamp('2020-07-27 01:42:00'),\n",
       " Timestamp('2020-07-27 01:43:00'),\n",
       " Timestamp('2020-07-27 01:44:00'),\n",
       " Timestamp('2020-07-27 01:45:00'),\n",
       " Timestamp('2020-07-27 01:46:00'),\n",
       " Timestamp('2020-07-27 01:47:00'),\n",
       " Timestamp('2020-07-27 01:48:00'),\n",
       " Timestamp('2020-07-27 01:49:00'),\n",
       " Timestamp('2020-07-27 01:50:00'),\n",
       " Timestamp('2020-07-27 01:51:00'),\n",
       " Timestamp('2020-07-27 01:52:00'),\n",
       " Timestamp('2020-07-27 01:53:00'),\n",
       " Timestamp('2020-07-27 01:54:00'),\n",
       " Timestamp('2020-07-27 01:55:00'),\n",
       " Timestamp('2020-07-27 01:56:00'),\n",
       " Timestamp('2020-07-27 01:57:00'),\n",
       " Timestamp('2020-07-27 01:58:00')]"
      ]
     },
     "execution_count": 4,
     "metadata": {},
     "output_type": "execute_result"
    }
   ],
   "source": [
    "#將分鐘存入list\n",
    "list_timestamp=[]\n",
    "\n",
    "for i in df_origin['Timestamp']:\n",
    "    if not(i in list_timestamp):\n",
    "        list_timestamp.append(i)\n",
    "list_timestamp"
   ]
  },
  {
   "cell_type": "code",
   "execution_count": 5,
   "metadata": {},
   "outputs": [],
   "source": [
    "#取出一分鐘資料"
   ]
  },
  {
   "cell_type": "code",
   "execution_count": 6,
   "metadata": {},
   "outputs": [
    {
     "data": {
      "text/html": [
       "<div>\n",
       "<style scoped>\n",
       "    .dataframe tbody tr th:only-of-type {\n",
       "        vertical-align: middle;\n",
       "    }\n",
       "\n",
       "    .dataframe tbody tr th {\n",
       "        vertical-align: top;\n",
       "    }\n",
       "\n",
       "    .dataframe thead th {\n",
       "        text-align: right;\n",
       "    }\n",
       "</style>\n",
       "<table border=\"1\" class=\"dataframe\">\n",
       "  <thead>\n",
       "    <tr style=\"text-align: right;\">\n",
       "      <th></th>\n",
       "      <th>Timestamp</th>\n",
       "      <th>Z1</th>\n",
       "      <th>Z2</th>\n",
       "    </tr>\n",
       "  </thead>\n",
       "  <tbody>\n",
       "    <tr>\n",
       "      <th>0</th>\n",
       "      <td>2020-07-27 00:58:00</td>\n",
       "      <td>0.268555</td>\n",
       "      <td>1.699219</td>\n",
       "    </tr>\n",
       "    <tr>\n",
       "      <th>1</th>\n",
       "      <td>2020-07-27 00:58:00</td>\n",
       "      <td>0.258789</td>\n",
       "      <td>1.691895</td>\n",
       "    </tr>\n",
       "    <tr>\n",
       "      <th>2</th>\n",
       "      <td>2020-07-27 00:58:00</td>\n",
       "      <td>0.250244</td>\n",
       "      <td>1.691895</td>\n",
       "    </tr>\n",
       "    <tr>\n",
       "      <th>3</th>\n",
       "      <td>2020-07-27 00:58:00</td>\n",
       "      <td>0.258789</td>\n",
       "      <td>1.688232</td>\n",
       "    </tr>\n",
       "    <tr>\n",
       "      <th>4</th>\n",
       "      <td>2020-07-27 00:58:00</td>\n",
       "      <td>0.258789</td>\n",
       "      <td>1.691895</td>\n",
       "    </tr>\n",
       "    <tr>\n",
       "      <th>...</th>\n",
       "      <td>...</td>\n",
       "      <td>...</td>\n",
       "      <td>...</td>\n",
       "    </tr>\n",
       "    <tr>\n",
       "      <th>9993</th>\n",
       "      <td>2020-07-27 00:58:00</td>\n",
       "      <td>0.263672</td>\n",
       "      <td>1.688232</td>\n",
       "    </tr>\n",
       "    <tr>\n",
       "      <th>9994</th>\n",
       "      <td>2020-07-27 00:58:00</td>\n",
       "      <td>0.273438</td>\n",
       "      <td>1.688232</td>\n",
       "    </tr>\n",
       "    <tr>\n",
       "      <th>9995</th>\n",
       "      <td>2020-07-27 00:58:00</td>\n",
       "      <td>0.240479</td>\n",
       "      <td>1.691895</td>\n",
       "    </tr>\n",
       "    <tr>\n",
       "      <th>9996</th>\n",
       "      <td>2020-07-27 00:58:00</td>\n",
       "      <td>0.263672</td>\n",
       "      <td>1.683350</td>\n",
       "    </tr>\n",
       "    <tr>\n",
       "      <th>9997</th>\n",
       "      <td>2020-07-27 00:58:00</td>\n",
       "      <td>0.261230</td>\n",
       "      <td>1.694336</td>\n",
       "    </tr>\n",
       "  </tbody>\n",
       "</table>\n",
       "<p>9998 rows × 3 columns</p>\n",
       "</div>"
      ],
      "text/plain": [
       "               Timestamp        Z1        Z2\n",
       "0    2020-07-27 00:58:00  0.268555  1.699219\n",
       "1    2020-07-27 00:58:00  0.258789  1.691895\n",
       "2    2020-07-27 00:58:00  0.250244  1.691895\n",
       "3    2020-07-27 00:58:00  0.258789  1.688232\n",
       "4    2020-07-27 00:58:00  0.258789  1.691895\n",
       "...                  ...       ...       ...\n",
       "9993 2020-07-27 00:58:00  0.263672  1.688232\n",
       "9994 2020-07-27 00:58:00  0.273438  1.688232\n",
       "9995 2020-07-27 00:58:00  0.240479  1.691895\n",
       "9996 2020-07-27 00:58:00  0.263672  1.683350\n",
       "9997 2020-07-27 00:58:00  0.261230  1.694336\n",
       "\n",
       "[9998 rows x 3 columns]"
      ]
     },
     "execution_count": 6,
     "metadata": {},
     "output_type": "execute_result"
    }
   ],
   "source": [
    "df_min = df_origin.loc[df_origin['Timestamp'] == '2020-07-27 00:58:00']\n",
    "df_min"
   ]
  },
  {
   "cell_type": "code",
   "execution_count": 7,
   "metadata": {},
   "outputs": [
    {
     "data": {
      "text/plain": [
       "(9998, 3)"
      ]
     },
     "execution_count": 7,
     "metadata": {},
     "output_type": "execute_result"
    }
   ],
   "source": [
    "df_min.shape"
   ]
  },
  {
   "cell_type": "code",
   "execution_count": 8,
   "metadata": {},
   "outputs": [
    {
     "name": "stdout",
     "output_type": "stream",
     "text": [
      "[ 1.          2.59459459  4.18918919  5.78378378  7.37837838  8.97297297\n",
      " 10.56756757 12.16216216 13.75675676 15.35135135 16.94594595 18.54054054\n",
      " 20.13513514 21.72972973 23.32432432 24.91891892 26.51351351 28.10810811\n",
      " 29.7027027  31.2972973  32.89189189 34.48648649 36.08108108 37.67567568\n",
      " 39.27027027 40.86486486 42.45945946 44.05405405 45.64864865 47.24324324\n",
      " 48.83783784 50.43243243 52.02702703 53.62162162 55.21621622 56.81081081\n",
      " 58.40540541 60.        ]\n"
     ]
    }
   ],
   "source": [
    "#rem 餘數，取1~60之間生成與餘數一樣多的點，方便下方知道哪幾秒要多加比數。\n",
    "rem = df_min.shape[0]%60\n",
    "sec_space = np.linspace(1, 60, rem)\n",
    "print(sec_space)"
   ]
  },
  {
   "cell_type": "code",
   "execution_count": 9,
   "metadata": {},
   "outputs": [
    {
     "name": "stdout",
     "output_type": "stream",
     "text": [
      "[1, 2, 4, 5, 7, 8, 10, 12, 13, 15, 16, 18, 20, 21, 23, 24, 26, 28, 29, 31, 32, 34, 36, 37, 39, 40, 42, 44, 45, 47, 48, 50, 52, 53, 55, 56, 58, 60]\n"
     ]
    }
   ],
   "source": [
    "#將餘數位置轉換成整數。\n",
    "sec_list = []\n",
    "for i in sec_space:\n",
    "    sec_list.append(math.floor(i))\n",
    "print(sec_list)"
   ]
  },
  {
   "cell_type": "code",
   "execution_count": 10,
   "metadata": {},
   "outputs": [
    {
     "name": "stdout",
     "output_type": "stream",
     "text": [
      "9998\n",
      "166.63333333333333\n",
      "[166, 166, 166, 166, 166, 166, 166, 166, 166, 166, 166, 166, 166, 166, 166, 166, 166, 166, 166, 166, 166, 166, 166, 166, 166, 166, 166, 166, 166, 166, 166, 166, 166, 166, 166, 166, 166, 166, 166, 166, 166, 166, 166, 166, 166, 166, 166, 166, 166, 166, 166, 166, 166, 166, 166, 166, 166, 166, 166, 166]\n"
     ]
    }
   ],
   "source": [
    "min_count = df_min.shape[0]\n",
    "print(min_count)\n",
    "count = min_count/60\n",
    "print(count)\n",
    "sec_count = []\n",
    "for i in range(60):\n",
    "    sec_count.append(math.floor(count))\n",
    "print(sec_count)"
   ]
  },
  {
   "cell_type": "code",
   "execution_count": 11,
   "metadata": {},
   "outputs": [
    {
     "name": "stdout",
     "output_type": "stream",
     "text": [
      "[167, 167, 166, 167, 167, 166, 167, 167, 166, 167, 166, 167, 167, 166, 167, 167, 166, 167, 166, 167, 167, 166, 167, 167, 166, 167, 166, 167, 167, 166, 167, 167, 166, 167, 166, 167, 167, 166, 167, 167, 166, 167, 166, 167, 167, 166, 167, 167, 166, 167, 166, 167, 167, 166, 167, 167, 166, 167, 166, 167]\n"
     ]
    }
   ],
   "source": [
    "for i in sec_list:\n",
    "    sec_count[i-1] = sec_count[i-1]+1\n",
    "print(sec_count)"
   ]
  },
  {
   "cell_type": "code",
   "execution_count": 12,
   "metadata": {},
   "outputs": [],
   "source": [
    "# sec_count.insert(0,0)\n",
    "# print(sec_count)"
   ]
  },
  {
   "cell_type": "code",
   "execution_count": 13,
   "metadata": {},
   "outputs": [
    {
     "name": "stdout",
     "output_type": "stream",
     "text": [
      "['2020-07-27 00:58:00', '2020-07-27 00:58:01', '2020-07-27 00:58:02', '2020-07-27 00:58:03', '2020-07-27 00:58:04', '2020-07-27 00:58:05', '2020-07-27 00:58:06', '2020-07-27 00:58:07', '2020-07-27 00:58:08', '2020-07-27 00:58:09', '2020-07-27 00:58:10', '2020-07-27 00:58:11', '2020-07-27 00:58:12', '2020-07-27 00:58:13', '2020-07-27 00:58:14', '2020-07-27 00:58:15', '2020-07-27 00:58:16', '2020-07-27 00:58:17', '2020-07-27 00:58:18', '2020-07-27 00:58:19', '2020-07-27 00:58:20', '2020-07-27 00:58:21', '2020-07-27 00:58:22', '2020-07-27 00:58:23', '2020-07-27 00:58:24', '2020-07-27 00:58:25', '2020-07-27 00:58:26', '2020-07-27 00:58:27', '2020-07-27 00:58:28', '2020-07-27 00:58:29', '2020-07-27 00:58:30', '2020-07-27 00:58:31', '2020-07-27 00:58:32', '2020-07-27 00:58:33', '2020-07-27 00:58:34', '2020-07-27 00:58:35', '2020-07-27 00:58:36', '2020-07-27 00:58:37', '2020-07-27 00:58:38', '2020-07-27 00:58:39', '2020-07-27 00:58:40', '2020-07-27 00:58:41', '2020-07-27 00:58:42', '2020-07-27 00:58:43', '2020-07-27 00:58:44', '2020-07-27 00:58:45', '2020-07-27 00:58:46', '2020-07-27 00:58:47', '2020-07-27 00:58:48', '2020-07-27 00:58:49', '2020-07-27 00:58:50', '2020-07-27 00:58:51', '2020-07-27 00:58:52', '2020-07-27 00:58:53', '2020-07-27 00:58:54', '2020-07-27 00:58:55', '2020-07-27 00:58:56', '2020-07-27 00:58:57', '2020-07-27 00:58:58', '2020-07-27 00:58:59']\n"
     ]
    }
   ],
   "source": [
    "#製作 min:sec Timestamp \n",
    "sec_Timestamp = []\n",
    "sec_Z1_mean = []\n",
    "sec_Z2_mean = []\n",
    "for i in range(60):\n",
    "    if i<10:\n",
    "        sec = '0'+str(i)\n",
    "        sec_Timestamp.append('2020-07-27 00:58:'+sec)\n",
    "    else:\n",
    "        sec_Timestamp.append('2020-07-27 00:58:'+str(i))\n",
    "print(sec_Timestamp)"
   ]
  },
  {
   "cell_type": "code",
   "execution_count": 14,
   "metadata": {},
   "outputs": [
    {
     "name": "stdout",
     "output_type": "stream",
     "text": [
      "[0.26025829200973055, 0.25899373128742514, 0.25936999952936746, 0.2578241953592814, 0.2587817529004491, 0.2607083607868976, 0.25982702563622756, 0.26003900402320357, 0.25803163827183734, 0.2637742093937126, 0.2587890625, 0.2620783822979042, 0.2604556511976048, 0.26095103068524095, 0.2620564534992515, 0.2583431769273952, 0.25728892131024095, 0.260441031998503, 0.26083337255271083, 0.26090884636976047, 0.25891332569236525, 0.26042156908885544, 0.25976854883982037, 0.25900104088697606, 0.2598185711596386, 0.2603240784056886, 0.25843608810240964, 0.2597539296407186, 0.2599659080276946, 0.26117899331701805, 0.25968814324476047, 0.2611939207522455, 0.2579360410391566, 0.25903027928517963, 0.25843608810240964, 0.2607187967814371, 0.25974662004116766, 0.2582963690700301, 0.26110620555763475, 0.26117930155314373, 0.26078189711972893, 0.2585112977170659, 0.26040686182228917, 0.2595419512537425, 0.2601486480164671, 0.26059070265436746, 0.26169097352170656, 0.25903758888473055, 0.25963473032756024, 0.26011940961826346, 0.2605612881212349, 0.2606968679827844, 0.26106965755988026, 0.2573036285768072, 0.259578499251497, 0.2607553447791916, 0.2608260189194277, 0.2591691616766467, 0.2602965573230422, 0.2608211311751497]\n",
      "[1.690469159337575, 1.6898478433757484, 1.6944609492658131, 1.6896943417851797, 1.6903302769461077, 1.6893869423004517, 1.6888391186377245, 1.6920699616392216, 1.6909312052899097, 1.691039308102545, 1.6894384177334338, 1.6918141256549402, 1.6892923138098803, 1.691115046121988, 1.6917191008607784, 1.6894385058008983, 1.6871146696159638, 1.6904106825411678, 1.6888207125376506, 1.6918652928517963, 1.690600732129491, 1.6860263318900603, 1.6897089609842815, 1.6877499883046407, 1.6885706890060241, 1.6898624625748504, 1.6925710655120483, 1.6922161536302396, 1.6870263379491017, 1.6918724703501506, 1.689964796968563, 1.6899282489708083, 1.6892619305346386, 1.6898917009730539, 1.6909459125564759, 1.6882835890718564, 1.689803985778443, 1.6861734045557228, 1.6914267168787425, 1.6905495649326348, 1.6905341090926205, 1.6902644905501496, 1.6909312052899097, 1.6934953335516467, 1.69010367936003, 1.6882544827748494, 1.6893654098053892, 1.6912951440868262, 1.6873573395143073, 1.690162156156437, 1.6919239457831325, 1.6918360544535929, 1.6891461218188624, 1.6925048828125, 1.6913097632859282, 1.689818604977545, 1.6898575748305722, 1.688517496257485, 1.6911959360881024, 1.6915729088697604]\n"
     ]
    }
   ],
   "source": [
    "#將取出一秒的資料進行平均存入sec_Z1_mean跟sec_Z2_mean\n",
    "sec_Z1_max = []\n",
    "sec_Z1_min = []\n",
    "sec_Z2_max = []\n",
    "sec_Z2_min = []\n",
    "for i in range(0,60):\n",
    "    if i == 0:\n",
    "        df_sec = df_min[0:sum(sec_count[0:1])]\n",
    "        #print(df_sec)\n",
    "        sec_Z1_max.append(np.max(df_sec['Z1']))\n",
    "        sec_Z2_max.append(np.max(df_sec['Z2']))\n",
    "        sec_Z1_min.append(np.min(df_sec['Z1']))\n",
    "        sec_Z2_min.append(np.min(df_sec['Z2']))\n",
    "        \n",
    "        sec_Z1_mean.append(np.mean(df_sec['Z1']))\n",
    "        sec_Z2_mean.append(np.mean(df_sec['Z2']))\n",
    "    else:\n",
    "        df_sec = df_min[sum(sec_count[0:i]):sum(sec_count[0:i+1])]\n",
    "        sec_Z1_max.append(np.max(df_sec['Z1']))\n",
    "        sec_Z2_max.append(np.max(df_sec['Z2']))\n",
    "        sec_Z1_min.append(np.min(df_sec['Z1']))\n",
    "        sec_Z2_min.append(np.min(df_sec['Z2']))\n",
    "        \n",
    "        sec_Z1_mean.append(np.mean(df_sec['Z1']))\n",
    "        sec_Z2_mean.append(np.mean(df_sec['Z2']))\n",
    "        #print(df_sec)\n",
    "print(sec_Z1_mean)\n",
    "print(sec_Z2_mean)\n",
    "min_Z1_max = np.max(sec_Z1_max)\n",
    "min_Z1_min = np.min(sec_Z1_min)\n",
    "min_Z2_max = np.max(sec_Z2_max)\n",
    "min_Z2_min = np.min(sec_Z2_min)"
   ]
  },
  {
   "cell_type": "code",
   "execution_count": 15,
   "metadata": {},
   "outputs": [],
   "source": [
    "sec_point = pd.DataFrame()\n",
    "sec_point['Timestamp'] = sec_Timestamp\n",
    "sec_point['Z1'] = sec_Z1_mean\n",
    "sec_point['Z2'] = sec_Z2_mean\n",
    "sec_point['Z1_max'] = sec_Z1_max\n",
    "sec_point['Z1_min'] = sec_Z1_min\n",
    "sec_point['Z2_max'] = sec_Z2_max\n",
    "sec_point['Z2_min'] = sec_Z2_min\n",
    "#sec_point"
   ]
  },
  {
   "cell_type": "code",
   "execution_count": 16,
   "metadata": {},
   "outputs": [
    {
     "name": "stdout",
     "output_type": "stream",
     "text": [
      "[0.14160156 0.19866943 0.2557373  0.31280518 0.36987305]\n",
      "0.42694091796875\n",
      "0.08453369140625\n",
      "[0.08453369 0.14160156 0.19866943 0.2557373  0.31280518 0.36987305\n",
      " 0.42694092]\n"
     ]
    }
   ],
   "source": [
    "sec_Z1_max_min = np.linspace(min_Z1_min,min_Z1_max,5)\n",
    "print(sec_Z1_max_min)\n",
    "\n",
    "sec_Z1_max_min = np.insert(sec_Z1_max_min,0,sec_Z1_max_min[0]-(sec_Z1_max_min[1]-sec_Z1_max_min[0]))\n",
    "sec_Z1_max_min = np.append(sec_Z1_max_min,2*sec_Z1_max_min[-1]-sec_Z1_max_min[-2])\n",
    "\n",
    "print(sec_Z1_max_min.max())\n",
    "print(sec_Z1_max_min.min())\n",
    "\n",
    "print(sec_Z1_max_min)"
   ]
  },
  {
   "cell_type": "code",
   "execution_count": 31,
   "metadata": {},
   "outputs": [
    {
     "data": {
      "image/png": "[encoded data removed]",
      "text/plain": [
       "<Figure size 1080x360 with 1 Axes>"
      ]
     },
     "metadata": {
      "needs_background": "light"
     },
     "output_type": "display_data"
    }
   ],
   "source": [
    "#change size\n",
    "plt.figure(figsize=(15,5))\n",
    "#plot\n",
    "sec_point['Z1'].plot(yticks=sec_Z1_max_min,label= 'mean')\n",
    "sec_point['Z1_max'].plot(yticks=sec_Z1_max_min,color='red',ls = 'dashed',marker='v',label='max')\n",
    "sec_point['Z1_min'].plot(yticks=sec_Z1_max_min,color='green',ls = 'dashed',marker='^',label='min')\n",
    "plt.xlabel('Time sec')\n",
    "plt.ylabel('Vibration value')\n",
    "#plt.savefig('D:\\\\福壽_產學資料\\\\製粒機_可用資料\\\\0727_Z1\\\\2020_07_27_00_58.png')\n",
    "plt.show()"
   ]
  },
  {
   "cell_type": "code",
   "execution_count": 18,
   "metadata": {},
   "outputs": [
    {
     "name": "stdout",
     "output_type": "stream",
     "text": [
      "[1.53808594 1.60247803 1.66687012 1.73126221 1.7956543 ]\n",
      "1.86004638671875\n",
      "1.47369384765625\n",
      "[1.47369385 1.53808594 1.60247803 1.66687012 1.73126221 1.7956543\n",
      " 1.86004639]\n"
     ]
    }
   ],
   "source": [
    "sec_Z2_max_min = np.linspace(min_Z2_min,min_Z2_max,5)\n",
    "print(sec_Z2_max_min)\n",
    "\n",
    "sec_Z2_max_min = np.insert(sec_Z2_max_min,0,sec_Z2_max_min[0]-(sec_Z2_max_min[1]-sec_Z2_max_min[0]))\n",
    "sec_Z2_max_min = np.append(sec_Z2_max_min,2*sec_Z2_max_min[-1]-sec_Z2_max_min[-2])\n",
    "\n",
    "print(sec_Z2_max_min.max())\n",
    "print(sec_Z2_max_min.min())\n",
    "\n",
    "print(sec_Z2_max_min)"
   ]
  },
  {
   "cell_type": "code",
   "execution_count": 19,
   "metadata": {},
   "outputs": [
    {
     "data": {
      "image/png": "[encoded data removed]",
      "text/plain": [
       "<Figure size 1080x360 with 1 Axes>"
      ]
     },
     "metadata": {
      "needs_background": "light"
     },
     "output_type": "display_data"
    }
   ],
   "source": [
    "#change size\n",
    "plt.figure(figsize=(15,5))\n",
    "#plot\n",
    "sec_point['Z2'].plot(yticks=sec_Z2_max_min)\n",
    "sec_point['Z2_max'].plot(yticks=sec_Z2_max_min,color='red',ls = 'dashed',marker='v')\n",
    "sec_point['Z2_min'].plot(yticks=sec_Z2_max_min,color='green',ls = 'dashed',marker='^')\n",
    "plt.xlabel('Time sec')\n",
    "plt.ylabel('Vibration value')\n",
    "#plt.savefig('D:\\\\福壽_產學資料\\\\製粒機_可用資料\\\\0727_Z2\\\\2020_07_27_00_58.png')\n",
    "plt.show()"
   ]
  },
  {
   "cell_type": "code",
   "execution_count": null,
   "metadata": {},
   "outputs": [],
   "source": []
  }
 ],
 "metadata": {
  "kernelspec": {
   "display_name": "Python 3",
   "language": "python",
   "name": "python3"
  },
  "language_info": {
   "codemirror_mode": {
    "name": "ipython",
    "version": 3
   },
   "file_extension": ".py",
   "mimetype": "text/x-python",
   "name": "python",
   "nbconvert_exporter": "python",
   "pygments_lexer": "ipython3",
   "version": "3.7.6"
  }
 },
 "nbformat": 4,
 "nbformat_minor": 4
}
