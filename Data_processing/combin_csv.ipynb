{
 "cells": [
  {
   "cell_type": "code",
   "execution_count": 1,
   "metadata": {},
   "outputs": [
    {
     "data": {
      "text/plain": [
       "['json_Combine_txt_ToCSV_0819.csv',\n",
       " 'json_Combine_txt_ToCSV_0820.csv',\n",
       " 'json_Combine_txt_ToCSV_0821.csv',\n",
       " 'json_Combine_txt_ToCSV_0822.csv',\n",
       " 'json_Combine_txt_ToCSV_0823.csv',\n",
       " 'json_Combine_txt_ToCSV_0824.csv',\n",
       " 'json_Combine_txt_ToCSV_0825.csv',\n",
       " 'json_Combine_txt_ToCSV_0826.csv',\n",
       " 'json_Combine_txt_ToCSV_0827.csv',\n",
       " 'json_Combine_txt_ToCSV_0828.csv',\n",
       " 'json_Combine_txt_ToCSV_0829.csv',\n",
       " 'json_Combine_txt_ToCSV_0830.csv',\n",
       " 'json_Combine_txt_ToCSV_0831.csv',\n",
       " 'json_Combine_txt_ToCSV_0901.csv']"
      ]
     },
     "execution_count": 1,
     "metadata": {},
     "output_type": "execute_result"
    }
   ],
   "source": [
    "import os\n",
    "import pandas as pd\n",
    "\n",
    "\n",
    "path = 'D:\\\\桌面\\\\Train_Mould\\\\0901'\n",
    "file_list = os.listdir(path)\n",
    "file_list"
   ]
  },
  {
   "cell_type": "code",
   "execution_count": 2,
   "metadata": {},
   "outputs": [],
   "source": [
    "#df1 = pd.read_csv(path+'\\\\'+file_list[0])\n",
    "df_first_all = pd.DataFrame()\n",
    "for i in range(len(file_list)):\n",
    "    df = pd.read_csv(path+'\\\\'+file_list[i])\n",
    "    df_first_all = df_first_all.append(df,ignore_index = True)"
   ]
  },
  {
   "cell_type": "code",
   "execution_count": 3,
   "metadata": {},
   "outputs": [],
   "source": [
    "# df_first_all = pd.DataFrame()\n",
    "# df_first_all = df_first_all.append(df1,ignore_index = True)\n",
    "# df_first_all = df_first_all.append(df2,ignore_index = True)\n",
    "# df_first_all = df_first_all.append(df3,ignore_index = True)\n",
    "# df_first_all = df_first_all.append(df4,ignore_index = True)\n",
    "# df_first_all = df_first_all.append(df5,ignore_index = True)\n",
    "# df_first_all = df_first_all.append(df6,ignore_index = True)\n",
    "# df_first_all = df_first_all.append(df,ignore_index = True)\n",
    "df_first_all.to_csv('D:\\\\桌面\\\\Train_Mould\\\\0901.csv')"
   ]
  },
  {
   "cell_type": "code",
   "execution_count": null,
   "metadata": {},
   "outputs": [],
   "source": []
  }
 ],
 "metadata": {
  "kernelspec": {
   "display_name": "Python 3",
   "language": "python",
   "name": "python3"
  },
  "language_info": {
   "codemirror_mode": {
    "name": "ipython",
    "version": 3
   },
   "file_extension": ".py",
   "mimetype": "text/x-python",
   "name": "python",
   "nbconvert_exporter": "python",
   "pygments_lexer": "ipython3",
   "version": "3.7.6"
  }
 },
 "nbformat": 4,
 "nbformat_minor": 4
}
