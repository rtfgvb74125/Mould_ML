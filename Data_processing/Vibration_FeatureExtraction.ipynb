{
 "cells": [
  {
   "cell_type": "code",
   "execution_count": null,
   "metadata": {},
   "outputs": [],
   "source": [
    "# import numpy as np\n",
    "# R = np.array([1, 2, 3, 4, 5, 6]) #初始化一组数据\n",
    "# R_var = np.var(R)  #计算方差\n",
    "# R_mean = np.mean(R) #计算均值\n",
    "# R_ku = np.mean((R - R_mean) ** 4) / pow(R_var, 2) #计算峰度\n",
    "# print(R_ku)"
   ]
  },
  {
   "cell_type": "code",
   "execution_count": null,
   "metadata": {},
   "outputs": [],
   "source": [
    "# print(R - R_mean)"
   ]
  },
  {
   "cell_type": "code",
   "execution_count": null,
   "metadata": {},
   "outputs": [],
   "source": [
    "# from scipy.fftpack import fft\n",
    "# #取樣點選擇1400個，因為設定的訊號頻率分量最高為600赫茲，根據取樣定理知取樣頻率要大於訊號頻率2倍，所以這裡設定取樣頻率為1400赫茲（即一秒內有1400個取樣點，一樣意思的）\n",
    "# x=np.linspace(0,1,1400) \n",
    " \n",
    "# #設定需要取樣的訊號，頻率分量有180，390和600\n",
    "# y=7*np.sin(2*np.pi*180*x) + 2.8*np.sin(2*np.pi*390*x)+5.1*np.sin(2*np.pi*600*x)\n",
    "# print(y)\n",
    "# yy=fft(y)      #快速傅立葉變換\n",
    "# print(yy)"
   ]
  },
  {
   "cell_type": "code",
   "execution_count": null,
   "metadata": {},
   "outputs": [],
   "source": [
    "# from scipy.stats import kurtosis\n",
    "\n",
    "# kurtosis(y)"
   ]
  },
  {
   "cell_type": "code",
   "execution_count": null,
   "metadata": {},
   "outputs": [],
   "source": [
    "# N = 316\n",
    "# dataX = np.linspace(0,1,N)\n",
    "# datay = np.zeros(N)\n",
    "\n",
    "# def GenSin(x,Hz):\n",
    "#     return np.sin(2*np.pi*Hz*x)\n",
    "\n",
    "\n",
    "# for i in range(0,N):\n",
    "#     datay[i] = GenSin(dataX[i],0.1721689652)\n",
    "    \n",
    "# print(datay)"
   ]
  },
  {
   "cell_type": "code",
   "execution_count": 31,
   "metadata": {},
   "outputs": [
    {
     "data": {
      "text/plain": [
       "['2020080300_clean.json',\n",
       " '2020080301_clean.json',\n",
       " '2020080302_clean.json',\n",
       " '2020080303_clean.json',\n",
       " '2020080304_clean.json',\n",
       " '2020080305_clean.json',\n",
       " '2020080306_clean.json',\n",
       " '2020080307_clean.json',\n",
       " '2020080308_clean.json',\n",
       " '2020080309_clean.json',\n",
       " '2020080310_clean.json',\n",
       " '2020080311_clean.json',\n",
       " '2020080312_clean.json',\n",
       " '2020080313_clean.json',\n",
       " '2020080314_clean.json',\n",
       " '2020080315_clean.json',\n",
       " '2020080316_clean.json',\n",
       " '2020080317_clean.json',\n",
       " '2020080318_clean.json',\n",
       " '2020080319_clean.json',\n",
       " '2020080320_clean.json',\n",
       " '2020080321_clean.json',\n",
       " '2020080322_clean.json',\n",
       " '2020080323_clean.json']"
      ]
     },
     "execution_count": 31,
     "metadata": {},
     "output_type": "execute_result"
    }
   ],
   "source": [
    "import numpy as np\n",
    "import pandas as pd\n",
    "from pandas import DataFrame\n",
    "import matplotlib.pyplot as plt\n",
    "import os\n",
    "import math\n",
    "from scipy.stats import kurtosis,skew#new\n",
    "from scipy.fftpack import fft#new\n",
    "from datetime import datetime\n",
    "path='D:\\\\福壽_產學資料\\\\製粒機_資料重新合併\\\\0803\\\\'\n",
    "file_list = os.listdir(path)\n",
    "file_list"
   ]
  },
  {
   "cell_type": "code",
   "execution_count": 32,
   "metadata": {},
   "outputs": [
    {
     "data": {
      "text/html": [
       "<div>\n",
       "<style scoped>\n",
       "    .dataframe tbody tr th:only-of-type {\n",
       "        vertical-align: middle;\n",
       "    }\n",
       "\n",
       "    .dataframe tbody tr th {\n",
       "        vertical-align: top;\n",
       "    }\n",
       "\n",
       "    .dataframe thead th {\n",
       "        text-align: right;\n",
       "    }\n",
       "</style>\n",
       "<table border=\"1\" class=\"dataframe\">\n",
       "  <thead>\n",
       "    <tr style=\"text-align: right;\">\n",
       "      <th></th>\n",
       "      <th>Timestamp</th>\n",
       "      <th>Z1</th>\n",
       "      <th>Z2</th>\n",
       "    </tr>\n",
       "  </thead>\n",
       "  <tbody>\n",
       "    <tr>\n",
       "      <th>0</th>\n",
       "      <td>2020-08-03 01:00:00</td>\n",
       "      <td>-0.092773</td>\n",
       "      <td>1.308594</td>\n",
       "    </tr>\n",
       "    <tr>\n",
       "      <th>1</th>\n",
       "      <td>2020-08-03 01:00:00</td>\n",
       "      <td>-0.092773</td>\n",
       "      <td>1.322021</td>\n",
       "    </tr>\n",
       "    <tr>\n",
       "      <th>2</th>\n",
       "      <td>2020-08-03 01:00:00</td>\n",
       "      <td>-0.062256</td>\n",
       "      <td>1.319580</td>\n",
       "    </tr>\n",
       "    <tr>\n",
       "      <th>3</th>\n",
       "      <td>2020-08-03 01:00:00</td>\n",
       "      <td>-0.092773</td>\n",
       "      <td>1.319580</td>\n",
       "    </tr>\n",
       "    <tr>\n",
       "      <th>4</th>\n",
       "      <td>2020-08-03 01:00:00</td>\n",
       "      <td>-0.108643</td>\n",
       "      <td>1.317139</td>\n",
       "    </tr>\n",
       "    <tr>\n",
       "      <th>...</th>\n",
       "      <td>...</td>\n",
       "      <td>...</td>\n",
       "      <td>...</td>\n",
       "    </tr>\n",
       "    <tr>\n",
       "      <th>1138241</th>\n",
       "      <td>2020-08-03 01:59:00</td>\n",
       "      <td>-0.097656</td>\n",
       "      <td>1.269531</td>\n",
       "    </tr>\n",
       "    <tr>\n",
       "      <th>1138242</th>\n",
       "      <td>2020-08-03 01:59:00</td>\n",
       "      <td>-0.092773</td>\n",
       "      <td>1.322021</td>\n",
       "    </tr>\n",
       "    <tr>\n",
       "      <th>1138243</th>\n",
       "      <td>2020-08-03 01:59:00</td>\n",
       "      <td>-0.085449</td>\n",
       "      <td>1.324463</td>\n",
       "    </tr>\n",
       "    <tr>\n",
       "      <th>1138244</th>\n",
       "      <td>2020-08-03 01:59:00</td>\n",
       "      <td>-0.092773</td>\n",
       "      <td>1.324463</td>\n",
       "    </tr>\n",
       "    <tr>\n",
       "      <th>1138245</th>\n",
       "      <td>2020-08-03 01:59:00</td>\n",
       "      <td>-0.290527</td>\n",
       "      <td>1.308594</td>\n",
       "    </tr>\n",
       "  </tbody>\n",
       "</table>\n",
       "<p>1138246 rows × 3 columns</p>\n",
       "</div>"
      ],
      "text/plain": [
       "                  Timestamp        Z1        Z2\n",
       "0       2020-08-03 01:00:00 -0.092773  1.308594\n",
       "1       2020-08-03 01:00:00 -0.092773  1.322021\n",
       "2       2020-08-03 01:00:00 -0.062256  1.319580\n",
       "3       2020-08-03 01:00:00 -0.092773  1.319580\n",
       "4       2020-08-03 01:00:00 -0.108643  1.317139\n",
       "...                     ...       ...       ...\n",
       "1138241 2020-08-03 01:59:00 -0.097656  1.269531\n",
       "1138242 2020-08-03 01:59:00 -0.092773  1.322021\n",
       "1138243 2020-08-03 01:59:00 -0.085449  1.324463\n",
       "1138244 2020-08-03 01:59:00 -0.092773  1.324463\n",
       "1138245 2020-08-03 01:59:00 -0.290527  1.308594\n",
       "\n",
       "[1138246 rows x 3 columns]"
      ]
     },
     "execution_count": 32,
     "metadata": {},
     "output_type": "execute_result"
    }
   ],
   "source": [
    "df_origin = pd.read_json(path+file_list[1])\n",
    "df_origin"
   ]
  },
  {
   "cell_type": "code",
   "execution_count": 33,
   "metadata": {},
   "outputs": [
    {
     "data": {
      "text/plain": [
       "[Timestamp('2020-08-03 01:00:00'),\n",
       " Timestamp('2020-08-03 01:01:00'),\n",
       " Timestamp('2020-08-03 01:02:00'),\n",
       " Timestamp('2020-08-03 01:03:00'),\n",
       " Timestamp('2020-08-03 01:04:00'),\n",
       " Timestamp('2020-08-03 01:05:00'),\n",
       " Timestamp('2020-08-03 01:06:00'),\n",
       " Timestamp('2020-08-03 01:07:00'),\n",
       " Timestamp('2020-08-03 01:08:00'),\n",
       " Timestamp('2020-08-03 01:09:00'),\n",
       " Timestamp('2020-08-03 01:10:00'),\n",
       " Timestamp('2020-08-03 01:11:00'),\n",
       " Timestamp('2020-08-03 01:12:00'),\n",
       " Timestamp('2020-08-03 01:13:00'),\n",
       " Timestamp('2020-08-03 01:14:00'),\n",
       " Timestamp('2020-08-03 01:15:00'),\n",
       " Timestamp('2020-08-03 01:16:00'),\n",
       " Timestamp('2020-08-03 01:17:00'),\n",
       " Timestamp('2020-08-03 01:18:00'),\n",
       " Timestamp('2020-08-03 01:19:00'),\n",
       " Timestamp('2020-08-03 01:20:00'),\n",
       " Timestamp('2020-08-03 01:21:00'),\n",
       " Timestamp('2020-08-03 01:22:00'),\n",
       " Timestamp('2020-08-03 01:23:00'),\n",
       " Timestamp('2020-08-03 01:24:00'),\n",
       " Timestamp('2020-08-03 01:25:00'),\n",
       " Timestamp('2020-08-03 01:26:00'),\n",
       " Timestamp('2020-08-03 01:27:00'),\n",
       " Timestamp('2020-08-03 01:28:00'),\n",
       " Timestamp('2020-08-03 01:29:00'),\n",
       " Timestamp('2020-08-03 01:30:00'),\n",
       " Timestamp('2020-08-03 01:31:00'),\n",
       " Timestamp('2020-08-03 01:32:00'),\n",
       " Timestamp('2020-08-03 01:33:00'),\n",
       " Timestamp('2020-08-03 01:34:00'),\n",
       " Timestamp('2020-08-03 01:35:00'),\n",
       " Timestamp('2020-08-03 01:36:00'),\n",
       " Timestamp('2020-08-03 01:37:00'),\n",
       " Timestamp('2020-08-03 01:38:00'),\n",
       " Timestamp('2020-08-03 01:39:00'),\n",
       " Timestamp('2020-08-03 01:40:00'),\n",
       " Timestamp('2020-08-03 01:41:00'),\n",
       " Timestamp('2020-08-03 01:42:00'),\n",
       " Timestamp('2020-08-03 01:43:00'),\n",
       " Timestamp('2020-08-03 01:44:00'),\n",
       " Timestamp('2020-08-03 01:45:00'),\n",
       " Timestamp('2020-08-03 01:46:00'),\n",
       " Timestamp('2020-08-03 01:47:00'),\n",
       " Timestamp('2020-08-03 01:48:00'),\n",
       " Timestamp('2020-08-03 01:49:00'),\n",
       " Timestamp('2020-08-03 01:50:00'),\n",
       " Timestamp('2020-08-03 01:51:00'),\n",
       " Timestamp('2020-08-03 01:52:00'),\n",
       " Timestamp('2020-08-03 01:53:00'),\n",
       " Timestamp('2020-08-03 01:54:00'),\n",
       " Timestamp('2020-08-03 01:55:00'),\n",
       " Timestamp('2020-08-03 01:56:00'),\n",
       " Timestamp('2020-08-03 01:57:00'),\n",
       " Timestamp('2020-08-03 01:58:00'),\n",
       " Timestamp('2020-08-03 01:59:00')]"
      ]
     },
     "execution_count": 33,
     "metadata": {},
     "output_type": "execute_result"
    }
   ],
   "source": [
    "#將分鐘存入list\n",
    "list_timestamp=[]\n",
    "\n",
    "for i in df_origin['Timestamp']:\n",
    "    if not(i in list_timestamp):\n",
    "        list_timestamp.append(i)\n",
    "list_timestamp"
   ]
  },
  {
   "cell_type": "code",
   "execution_count": 34,
   "metadata": {},
   "outputs": [
    {
     "data": {
      "text/html": [
       "<div>\n",
       "<style scoped>\n",
       "    .dataframe tbody tr th:only-of-type {\n",
       "        vertical-align: middle;\n",
       "    }\n",
       "\n",
       "    .dataframe tbody tr th {\n",
       "        vertical-align: top;\n",
       "    }\n",
       "\n",
       "    .dataframe thead th {\n",
       "        text-align: right;\n",
       "    }\n",
       "</style>\n",
       "<table border=\"1\" class=\"dataframe\">\n",
       "  <thead>\n",
       "    <tr style=\"text-align: right;\">\n",
       "      <th></th>\n",
       "      <th>Timestamp</th>\n",
       "      <th>Z1</th>\n",
       "      <th>Z2</th>\n",
       "    </tr>\n",
       "  </thead>\n",
       "  <tbody>\n",
       "    <tr>\n",
       "      <th>0</th>\n",
       "      <td>2020-08-03 01:00:00</td>\n",
       "      <td>-0.092773</td>\n",
       "      <td>1.308594</td>\n",
       "    </tr>\n",
       "    <tr>\n",
       "      <th>1</th>\n",
       "      <td>2020-08-03 01:00:00</td>\n",
       "      <td>-0.092773</td>\n",
       "      <td>1.322021</td>\n",
       "    </tr>\n",
       "    <tr>\n",
       "      <th>2</th>\n",
       "      <td>2020-08-03 01:00:00</td>\n",
       "      <td>-0.062256</td>\n",
       "      <td>1.319580</td>\n",
       "    </tr>\n",
       "    <tr>\n",
       "      <th>3</th>\n",
       "      <td>2020-08-03 01:00:00</td>\n",
       "      <td>-0.092773</td>\n",
       "      <td>1.319580</td>\n",
       "    </tr>\n",
       "    <tr>\n",
       "      <th>4</th>\n",
       "      <td>2020-08-03 01:00:00</td>\n",
       "      <td>-0.108643</td>\n",
       "      <td>1.317139</td>\n",
       "    </tr>\n",
       "    <tr>\n",
       "      <th>...</th>\n",
       "      <td>...</td>\n",
       "      <td>...</td>\n",
       "      <td>...</td>\n",
       "    </tr>\n",
       "    <tr>\n",
       "      <th>18996</th>\n",
       "      <td>2020-08-03 01:00:00</td>\n",
       "      <td>-0.079346</td>\n",
       "      <td>1.322021</td>\n",
       "    </tr>\n",
       "    <tr>\n",
       "      <th>18997</th>\n",
       "      <td>2020-08-03 01:00:00</td>\n",
       "      <td>-0.009766</td>\n",
       "      <td>1.301270</td>\n",
       "    </tr>\n",
       "    <tr>\n",
       "      <th>18998</th>\n",
       "      <td>2020-08-03 01:00:00</td>\n",
       "      <td>-0.079346</td>\n",
       "      <td>1.308594</td>\n",
       "    </tr>\n",
       "    <tr>\n",
       "      <th>18999</th>\n",
       "      <td>2020-08-03 01:00:00</td>\n",
       "      <td>-0.076904</td>\n",
       "      <td>1.337891</td>\n",
       "    </tr>\n",
       "    <tr>\n",
       "      <th>19000</th>\n",
       "      <td>2020-08-03 01:00:00</td>\n",
       "      <td>-0.092773</td>\n",
       "      <td>1.317139</td>\n",
       "    </tr>\n",
       "  </tbody>\n",
       "</table>\n",
       "<p>19001 rows × 3 columns</p>\n",
       "</div>"
      ],
      "text/plain": [
       "                Timestamp        Z1        Z2\n",
       "0     2020-08-03 01:00:00 -0.092773  1.308594\n",
       "1     2020-08-03 01:00:00 -0.092773  1.322021\n",
       "2     2020-08-03 01:00:00 -0.062256  1.319580\n",
       "3     2020-08-03 01:00:00 -0.092773  1.319580\n",
       "4     2020-08-03 01:00:00 -0.108643  1.317139\n",
       "...                   ...       ...       ...\n",
       "18996 2020-08-03 01:00:00 -0.079346  1.322021\n",
       "18997 2020-08-03 01:00:00 -0.009766  1.301270\n",
       "18998 2020-08-03 01:00:00 -0.079346  1.308594\n",
       "18999 2020-08-03 01:00:00 -0.076904  1.337891\n",
       "19000 2020-08-03 01:00:00 -0.092773  1.317139\n",
       "\n",
       "[19001 rows x 3 columns]"
      ]
     },
     "execution_count": 34,
     "metadata": {},
     "output_type": "execute_result"
    }
   ],
   "source": [
    "df_min = df_origin.loc[df_origin['Timestamp'] == '2020-08-03 01:00:00']\n",
    "df_min"
   ]
  },
  {
   "cell_type": "code",
   "execution_count": 75,
   "metadata": {},
   "outputs": [
    {
     "name": "stdout",
     "output_type": "stream",
     "text": [
      "316.68333333333334\n"
     ]
    }
   ],
   "source": [
    "minute = df_min.shape[0]\n",
    "minute\n",
    "HZ = minute/60\n",
    "print(HZ)"
   ]
  },
  {
   "cell_type": "code",
   "execution_count": 6,
   "metadata": {},
   "outputs": [
    {
     "name": "stdout",
     "output_type": "stream",
     "text": [
      "[ 1.     2.475  3.95   5.425  6.9    8.375  9.85  11.325 12.8   14.275\n",
      " 15.75  17.225 18.7   20.175 21.65  23.125 24.6   26.075 27.55  29.025\n",
      " 30.5   31.975 33.45  34.925 36.4   37.875 39.35  40.825 42.3   43.775\n",
      " 45.25  46.725 48.2   49.675 51.15  52.625 54.1   55.575 57.05  58.525\n",
      " 60.   ]\n",
      "[1, 2, 3, 5, 6, 8, 9, 11, 12, 14, 15, 17, 18, 20, 21, 23, 24, 26, 27, 29, 30, 31, 33, 34, 36, 37, 39, 40, 42, 43, 45, 46, 48, 49, 51, 52, 54, 55, 57, 58, 60]\n",
      "19001\n",
      "316.68333333333334\n",
      "[316, 316, 316, 316, 316, 316, 316, 316, 316, 316, 316, 316, 316, 316, 316, 316, 316, 316, 316, 316, 316, 316, 316, 316, 316, 316, 316, 316, 316, 316, 316, 316, 316, 316, 316, 316, 316, 316, 316, 316, 316, 316, 316, 316, 316, 316, 316, 316, 316, 316, 316, 316, 316, 316, 316, 316, 316, 316, 316, 316]\n",
      "[317, 317, 317, 316, 317, 317, 316, 317, 317, 316, 317, 317, 316, 317, 317, 316, 317, 317, 316, 317, 317, 316, 317, 317, 316, 317, 317, 316, 317, 317, 317, 316, 317, 317, 316, 317, 317, 316, 317, 317, 316, 317, 317, 316, 317, 317, 316, 317, 317, 316, 317, 317, 316, 317, 317, 316, 317, 317, 316, 317]\n"
     ]
    }
   ],
   "source": [
    "rem = df_min.shape[0]%60\n",
    "sec_space = np.linspace(1, 60, rem)\n",
    "print(sec_space)\n",
    "sec_list = []\n",
    "for i in sec_space:\n",
    "    sec_list.append(math.floor(i))\n",
    "print(sec_list)\n",
    "min_count = df_min.shape[0]\n",
    "print(min_count)\n",
    "count = min_count/60\n",
    "print(count)\n",
    "sec_count = []\n",
    "for i in range(60):\n",
    "    sec_count.append(math.floor(count))\n",
    "print(sec_count)\n",
    "for i in sec_list:\n",
    "    sec_count[i-1] = sec_count[i-1]+1\n",
    "print(sec_count)"
   ]
  },
  {
   "cell_type": "code",
   "execution_count": 78,
   "metadata": {},
   "outputs": [
    {
     "name": "stdout",
     "output_type": "stream",
     "text": [
      "0       -0.092773\n",
      "1       -0.092773\n",
      "2       -0.062256\n",
      "3       -0.092773\n",
      "4       -0.108643\n",
      "           ...   \n",
      "18996   -0.079346\n",
      "18997   -0.009766\n",
      "18998   -0.079346\n",
      "18999   -0.076904\n",
      "19000   -0.092773\n",
      "Name: Z1, Length: 19001, dtype: float64\n",
      "[0. 0. 0. ... 0. 0. 0.]\n",
      "頻譜平均 85.65488115972774\n",
      "頻譜標準差 44.76300483115809\n",
      "頻譜偏差 0.6087600362602249\n",
      "頻譜峰度 0.19896347580239215\n",
      "能量訊號 7336.758666487081\n",
      "[85.65488115972774]\n",
      "[44.76300483115809]\n",
      "[0.6087600362602249]\n",
      "[0.19896347580239215]\n",
      "[7336.758666487081]\n"
     ]
    }
   ],
   "source": [
    "#Spectrum頻譜\n",
    "#Spectrum = []#頻譜\n",
    "Spectrum_mean=[]#頻譜平均\n",
    "Spectrum_std = []#頻譜標準差\n",
    "Spectrum_mad = []#頻譜偏差\n",
    "Spectrum_kur = []#頻譜峰度\n",
    "Energy_signal = []#訊號能量\n",
    "df_Z1 = df_min['Z1']\n",
    "print(df_Z1)\n",
    "#      print(df_Z1)\n",
    "#         print(sec_count[i])\n",
    "def FFT(x,Hz):\n",
    "    return np.sin(2*np.pi*x*Hz)\n",
    "\n",
    "#dataX = np.linspace(0,1,sec_count[i]) #取樣數\n",
    "#         print(sec_count[1])\n",
    "dataY = np.zeros(minute)\n",
    "print(dataY)\n",
    "for j in range(0,minute):\n",
    "    dataY[j] = FFT(df_Z1[j],HZ)\n",
    "Spectrum = np.abs(fft(dataY))\n",
    "\n",
    "Spectrum_mean.append(np.mean(Spectrum))\n",
    "print('頻譜平均',np.mean(Spectrum))\n",
    "Spectrum_std.append(np.std(Spectrum))\n",
    "print('頻譜標準差',np.std(Spectrum))\n",
    "Spectrum_mad.append(skew(Spectrum))\n",
    "print('頻譜偏差',skew(Spectrum))\n",
    "Spectrum_kur.append(kurtosis(Spectrum))\n",
    "print('頻譜峰度',kurtosis(Spectrum))\n",
    "Energy_signal.append((np.mean(Spectrum)**2))\n",
    "print('能量訊號',np.mean(Spectrum)**2)\n",
    "\n",
    "print(Spectrum_mean)\n",
    "print(Spectrum_std)\n",
    "print(Spectrum_mad)\n",
    "print(Spectrum_kur)\n",
    "print(Energy_signal)"
   ]
  },
  {
   "cell_type": "code",
   "execution_count": 46,
   "metadata": {},
   "outputs": [
    {
     "name": "stdout",
     "output_type": "stream",
     "text": [
      "0       -0.092773\n",
      "1       -0.092773\n",
      "2       -0.062256\n",
      "3       -0.092773\n",
      "4       -0.108643\n",
      "           ...   \n",
      "18996   -0.079346\n",
      "18997   -0.009766\n",
      "18998   -0.079346\n",
      "18999   -0.076904\n",
      "19000   -0.092773\n",
      "Name: Z1, Length: 19001, dtype: float64\n"
     ]
    }
   ],
   "source": [
    "print(df_Z1)"
   ]
  },
  {
   "cell_type": "code",
   "execution_count": 52,
   "metadata": {},
   "outputs": [
    {
     "data": {
      "text/plain": [
       "4.979961696967991"
      ]
     },
     "execution_count": 52,
     "metadata": {},
     "output_type": "execute_result"
    }
   ],
   "source": [
    "#峰質因數\n",
    "crest = np.max(np.abs(df_Z1))/np.sqrt(np.mean(np.square(df_Z1)))\n",
    "crest"
   ]
  },
  {
   "cell_type": "code",
   "execution_count": 54,
   "metadata": {},
   "outputs": [
    {
     "data": {
      "text/plain": [
       "3.5675394554507234"
      ]
     },
     "execution_count": 54,
     "metadata": {},
     "output_type": "execute_result"
    }
   ],
   "source": [
    "#脈衝因數\n",
    "impluse = np.max(df_Z1)/np.abs(np.mean(df_Z1))\n",
    "impluse"
   ]
  },
  {
   "cell_type": "code",
   "execution_count": 64,
   "metadata": {},
   "outputs": [
    {
     "name": "stdout",
     "output_type": "stream",
     "text": [
      "0.3210449219\n",
      "-0.08999057358972899\n",
      "0.057651266590232134\n",
      "0.008098303335008428\n",
      "0.08999057358972899\n",
      "0.0033236685394580157\n"
     ]
    },
    {
     "data": {
      "text/plain": [
       "0.1068736257196622"
      ]
     },
     "execution_count": 64,
     "metadata": {},
     "output_type": "execute_result"
    }
   ],
   "source": [
    "Max = np.max(df_Z1)\n",
    "ABS = np.abs(df_Z1)\n",
    "mean = np.mean(df_Z1)\n",
    "print(Max)\n",
    "#print(ABS)\n",
    "print(mean)\n",
    "std = np.std(df_Z1)\n",
    "print(std)\n",
    "print(pow(mean,2))\n",
    "print(math.sqrt(pow(mean,2)))\n",
    "print(pow(std,2))\n",
    "RMS=math.sqrt(pow(mean,2) + pow(std,2))\n",
    "RMS"
   ]
  },
  {
   "cell_type": "code",
   "execution_count": 66,
   "metadata": {},
   "outputs": [
    {
     "name": "stdout",
     "output_type": "stream",
     "text": [
      "1.1010082884899854\n"
     ]
    }
   ],
   "source": [
    "ShaprFactor = RMS/np.mean(np.abs(df_Z1))\n",
    "print(ShaprFactor)"
   ]
  },
  {
   "cell_type": "code",
   "execution_count": 68,
   "metadata": {},
   "outputs": [
    {
     "name": "stdout",
     "output_type": "stream",
     "text": [
      "34.07264867609003\n"
     ]
    }
   ],
   "source": [
    "MarginFactor = np.max(df_Z1)/pow(np.mean(np.abs(df_Z1)),2)\n",
    "print(MarginFactor)"
   ]
  },
  {
   "cell_type": "code",
   "execution_count": 69,
   "metadata": {},
   "outputs": [
    {
     "name": "stdout",
     "output_type": "stream",
     "text": [
      "頻譜峰度 11.795506949453628\n"
     ]
    }
   ],
   "source": [
    "print('頻譜峰度',kurtosis(df_Z1))"
   ]
  },
  {
   "cell_type": "code",
   "execution_count": 70,
   "metadata": {},
   "outputs": [
    {
     "name": "stdout",
     "output_type": "stream",
     "text": [
      "能量訊號 0.008098303335008428\n"
     ]
    }
   ],
   "source": [
    "print('能量訊號',np.mean(df_Z1)**2)"
   ]
  },
  {
   "cell_type": "code",
   "execution_count": 79,
   "metadata": {},
   "outputs": [
    {
     "data": {
      "text/plain": [
       "0.8532714844"
      ]
     },
     "execution_count": 79,
     "metadata": {},
     "output_type": "execute_result"
    }
   ],
   "source": [
    "np.ptp(df_Z1)"
   ]
  },
  {
   "cell_type": "code",
   "execution_count": 80,
   "metadata": {},
   "outputs": [
    {
     "data": {
      "text/plain": [
       "791.7083333333334"
      ]
     },
     "execution_count": 80,
     "metadata": {},
     "output_type": "execute_result"
    }
   ],
   "source": [
    "19001/24"
   ]
  }
 ],
 "metadata": {
  "kernelspec": {
   "display_name": "Python 3",
   "language": "python",
   "name": "python3"
  },
  "language_info": {
   "codemirror_mode": {
    "name": "ipython",
    "version": 3
   },
   "file_extension": ".py",
   "mimetype": "text/x-python",
   "name": "python",
   "nbconvert_exporter": "python",
   "pygments_lexer": "ipython3",
   "version": "3.8.5"
  }
 },
 "nbformat": 4,
 "nbformat_minor": 4
}
