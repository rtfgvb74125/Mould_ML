{
 "cells": [
  {
   "cell_type": "code",
   "execution_count": 3,
   "metadata": {},
   "outputs": [
    {
     "name": "stdout",
     "output_type": "stream",
     "text": [
      "1.7314285714285718\n"
     ]
    }
   ],
   "source": [
    "import numpy as np\n",
    "R = np.array([1, 2, 3, 4, 5, 6]) #初始化一组数据\n",
    "R_var = np.var(R)  #计算方差\n",
    "R_mean = np.mean(R) #计算均值\n",
    "R_ku = np.mean((R - R_mean) ** 4) / pow(R_var, 2) #计算峰度\n",
    "print(R_ku)"
   ]
  },
  {
   "cell_type": "code",
   "execution_count": 4,
   "metadata": {},
   "outputs": [
    {
     "name": "stdout",
     "output_type": "stream",
     "text": [
      "[-2.5 -1.5 -0.5  0.5  1.5  2.5]\n"
     ]
    }
   ],
   "source": [
    "print(R - R_mean)"
   ]
  },
  {
   "cell_type": "code",
   "execution_count": 11,
   "metadata": {},
   "outputs": [
    {
     "name": "stdout",
     "output_type": "stream",
     "text": [
      "[ 0.00000000e+00  1.00206904e+01  2.02710807e+00 ... -2.02710807e+00\n",
      " -1.00206904e+01 -1.77462070e-12]\n",
      "[3.80140364e-12-0.j         9.99966152e-05-0.0445618j\n",
      " 4.00018214e-04-0.08913023j ... 9.00160110e-04+0.13371191j\n",
      " 4.00018214e-04+0.08913023j 9.99966152e-05+0.0445618j ]\n"
     ]
    }
   ],
   "source": [
    "from scipy.fftpack import fft\n",
    "#取樣點選擇1400個，因為設定的訊號頻率分量最高為600赫茲，根據取樣定理知取樣頻率要大於訊號頻率2倍，所以這裡設定取樣頻率為1400赫茲（即一秒內有1400個取樣點，一樣意思的）\n",
    "x=np.linspace(0,1,1400) \n",
    " \n",
    "#設定需要取樣的訊號，頻率分量有180，390和600\n",
    "y=7*np.sin(2*np.pi*180*x) + 2.8*np.sin(2*np.pi*390*x)+5.1*np.sin(2*np.pi*600*x)\n",
    "print(y)\n",
    "yy=fft(y)      #快速傅立葉變換\n",
    "print(yy)"
   ]
  },
  {
   "cell_type": "code",
   "execution_count": 12,
   "metadata": {},
   "outputs": [
    {
     "data": {
      "text/plain": [
       "-0.4394729883980908"
      ]
     },
     "execution_count": 12,
     "metadata": {},
     "output_type": "execute_result"
    }
   ],
   "source": [
    "from scipy.stats import kurtosis\n",
    "\n",
    "kurtosis(y)"
   ]
  }
 ],
 "metadata": {
  "kernelspec": {
   "display_name": "Python 3",
   "language": "python",
   "name": "python3"
  },
  "language_info": {
   "codemirror_mode": {
    "name": "ipython",
    "version": 3
   },
   "file_extension": ".py",
   "mimetype": "text/x-python",
   "name": "python",
   "nbconvert_exporter": "python",
   "pygments_lexer": "ipython3",
   "version": "3.8.5"
  }
 },
 "nbformat": 4,
 "nbformat_minor": 4
}
